{
 "cells": [
  {
   "attachments": {},
   "cell_type": "markdown",
   "metadata": {},
   "source": [
    "```\n",
    "Copyright 2023 by LMU Munich Media Informatics Group. All rights reserved.\n",
    "Created by [Changkun Ou](https://changkun.de)\n",
    "\n",
    "Use of this source code is governed by a GPLv3 license that\n",
    "can be found in the LICENSE file.\n",
    "```"
   ]
  },
  {
   "attachments": {},
   "cell_type": "markdown",
   "metadata": {},
   "source": [
    "This notebook reproduces the \"Section 4.2.2 Objective Outcome Quality\" in the paper of \"The Impact of Expertise in the Loop for Exploring Machine Rationality\".\n",
    "\n",
    "The statistical method used in this notebook is linear mixed effect model (LME) using\n",
    "the following model:\n",
    "\n",
    "```\n",
    "metric ~ expertiseLevel * iteration + (1|userID)\n",
    "```"
   ]
  },
  {
   "cell_type": "code",
   "execution_count": 1,
   "metadata": {
    "vscode": {
     "languageId": "r"
    }
   },
   "outputs": [
    {
     "name": "stderr",
     "output_type": "stream",
     "text": [
      "\n",
      "Attaching package: ‘dplyr’\n",
      "\n",
      "\n",
      "The following objects are masked from ‘package:stats’:\n",
      "\n",
      "    filter, lag\n",
      "\n",
      "\n",
      "The following objects are masked from ‘package:base’:\n",
      "\n",
      "    intersect, setdiff, setequal, union\n",
      "\n",
      "\n",
      "\n",
      "Attaching package: ‘effectsize’\n",
      "\n",
      "\n",
      "The following object is masked from ‘package:apa’:\n",
      "\n",
      "    cohens_d\n",
      "\n",
      "\n",
      "Loading required package: carData\n",
      "\n",
      "\n",
      "Attaching package: ‘car’\n",
      "\n",
      "\n",
      "The following object is masked from ‘package:dplyr’:\n",
      "\n",
      "    recode\n",
      "\n",
      "\n",
      "Loading required package: Matrix\n",
      "\n",
      "\n",
      "Attaching package: ‘lmerTest’\n",
      "\n",
      "\n",
      "The following object is masked from ‘package:lme4’:\n",
      "\n",
      "    lmer\n",
      "\n",
      "\n",
      "The following object is masked from ‘package:stats’:\n",
      "\n",
      "    step\n",
      "\n",
      "\n",
      "Loading required package: coda\n",
      "\n",
      "************\n",
      "Welcome to BayesFactor 0.9.12-4.4. If you have questions, please contact Richard Morey (richarddmorey@gmail.com).\n",
      "\n",
      "Type BFManual() to open the manual.\n",
      "************\n",
      "\n"
     ]
    }
   ],
   "source": [
    "source('stats.R')"
   ]
  },
  {
   "cell_type": "markdown",
   "metadata": {},
   "source": [
    "## Text"
   ]
  },
  {
   "cell_type": "code",
   "execution_count": 2,
   "metadata": {
    "vscode": {
     "languageId": "r"
    }
   },
   "outputs": [
    {
     "name": "stderr",
     "output_type": "stream",
     "text": [
      "boundary (singular) fit: see help('isSingular')\n",
      "\n",
      "boundary (singular) fit: see help('isSingular')\n",
      "\n"
     ]
    },
    {
     "name": "stdout",
     "output_type": "stream",
     "text": [
      "\u001b[31mRandom effect variances not available. Returned R2 does not account for random effects.\n",
      "\u001b[39m"
     ]
    },
    {
     "name": "stderr",
     "output_type": "stream",
     "text": [
      "boundary (singular) fit: see help('isSingular')\n",
      "\n"
     ]
    },
    {
     "name": "stdout",
     "output_type": "stream",
     "text": [
      "\u001b[31mRandom effect variances not available. Returned R2 does not account for random effects.\n",
      "\u001b[39mWe fitted a linear mixed model (estimated using REML and nloptwrap optimizer)\n",
      "to predict length with expertiseLevel and iteration\n",
      " (formula: length ~ expertiseLevel * iteration). The model included userID\n",
      " as random effect (formula: ~1 | userID). The model's explanatory power related\n",
      "to the fixed effects alone (marginal R2) is 5.22e-03. The model's intercept,\n",
      "corresponding to expertiseLevel = N and iteration = 0\n",
      ", is at 52.82 (95% CI [51.20, 54.43], t(1192) = 64.14, p < .001). Within this\n",
      "model:\n",
      "\n",
      "  - The effect of expertiseLevel [I] is statistically non-significant and\n",
      "negative (beta = -0.99, 95% CI [-3.36, 1.39], t(1192) = -0.81, p = 0.416; Std.\n",
      "beta = -0.06, 95% CI [-0.20, 0.08])\n",
      "  - The effect of expertiseLevel [E] is statistically non-significant and\n",
      "negative (beta = -0.20, 95% CI [-2.48, 2.08], t(1192) = -0.17, p = 0.864; Std.\n",
      "beta = 0.06, 95% CI [-0.08, 0.19])\n",
      "  - The effect of iteration is statistically non-significant and negative (beta =\n",
      "-0.12, 95% CI [-0.26, 0.03], t(1192) = -1.55, p = 0.120; Std. beta = -0.08, 95%\n",
      "CI [-0.17, 0.02])\n",
      "  - The interaction effect of iteration on expertiseLevel [I] is statistically\n",
      "non-significant and positive (beta = 0.05, 95% CI [-0.17, 0.26], t(1192) =\n",
      "0.41, p = 0.679; Std. beta = 0.03, 95% CI [-0.11, 0.17])\n",
      "  - The interaction effect of iteration on expertiseLevel [E] is statistically\n",
      "non-significant and positive (beta = 0.07, 95% CI [-0.13, 0.28], t(1192) =\n",
      "0.70, p = 0.486; Std. beta = 0.05, 95% CI [-0.09, 0.18])\n",
      "\n",
      "Standardized parameters were obtained by fitting the model on a standardized\n",
      "version of the dataset. 95% Confidence Intervals (CIs) and p-values were\n",
      "computed using a Wald t-distribution approximation.\n"
     ]
    }
   ],
   "source": [
    "df <- read.csv('../data/processed/quality_text_progress.csv')\n",
    "df$expertiseLevel <- factor(df$expertiseLevel, levels=c('N', 'I', 'E'))\n",
    "m1 <- lmer(length ~ expertiseLevel * iteration + (1|userID), data=df)\n",
    "print(report(m1), verbose=TRUE)"
   ]
  },
  {
   "cell_type": "code",
   "execution_count": 3,
   "metadata": {
    "vscode": {
     "languageId": "r"
    }
   },
   "outputs": [
    {
     "name": "stderr",
     "output_type": "stream",
     "text": [
      "boundary (singular) fit: see help('isSingular')\n",
      "\n",
      "boundary (singular) fit: see help('isSingular')\n",
      "\n"
     ]
    },
    {
     "name": "stdout",
     "output_type": "stream",
     "text": [
      "\u001b[31mRandom effect variances not available. Returned R2 does not account for random effects.\n",
      "\u001b[39m"
     ]
    },
    {
     "name": "stderr",
     "output_type": "stream",
     "text": [
      "boundary (singular) fit: see help('isSingular')\n",
      "\n"
     ]
    },
    {
     "name": "stdout",
     "output_type": "stream",
     "text": [
      "\u001b[31mRandom effect variances not available. Returned R2 does not account for random effects.\n",
      "\u001b[39mWe fitted a linear mixed model (estimated using REML and nloptwrap optimizer)\n",
      "to predict rouge1 with expertiseLevel and iteration\n",
      " (formula: rouge1 ~ expertiseLevel * iteration). The model included userID\n",
      " as random effect (formula: ~1 | userID). The model's explanatory power related\n",
      "to the fixed effects alone (marginal R2) is 2.31e-03. The model's intercept,\n",
      "corresponding to expertiseLevel = N and iteration = 0\n",
      ", is at 0.44 (95% CI [0.42, 0.46], t(1192) = 46.19, p < .001). Within this\n",
      "model:\n",
      "\n",
      "  - The effect of expertiseLevel [I] is statistically non-significant and\n",
      "positive (beta = 8.16e-03, 95% CI [-0.02, 0.04], t(1192) = 0.58, p = 0.564;\n",
      "Std. beta = 0.10, 95% CI [-0.05, 0.24])\n",
      "  - The effect of expertiseLevel [E] is statistically non-significant and\n",
      "positive (beta = 0.01, 95% CI [-0.01, 0.04], t(1192) = 0.86, p = 0.391; Std.\n",
      "beta = 0.06, 95% CI [-0.08, 0.20])\n",
      "  - The effect of iteration is statistically non-significant and positive (beta =\n",
      "5.38e-04, 95% CI [-1.16e-03, 2.23e-03], t(1192) = 0.62, p = 0.534; Std. beta =\n",
      "0.03, 95% CI [-0.07, 0.13])\n",
      "  - The interaction effect of iteration on expertiseLevel [I] is statistically\n",
      "non-significant and positive (beta = 1.62e-04, 95% CI [-2.33e-03, 2.66e-03],\n",
      "t(1192) = 0.13, p = 0.899; Std. beta = 9.15e-03, 95% CI [-0.13, 0.15])\n",
      "  - The interaction effect of iteration on expertiseLevel [E] is statistically\n",
      "non-significant and negative (beta = -5.84e-04, 95% CI [-2.98e-03, 1.81e-03],\n",
      "t(1192) = -0.48, p = 0.633; Std. beta = -0.03, 95% CI [-0.17, 0.10])\n",
      "\n",
      "Standardized parameters were obtained by fitting the model on a standardized\n",
      "version of the dataset. 95% Confidence Intervals (CIs) and p-values were\n",
      "computed using a Wald t-distribution approximation.\n"
     ]
    }
   ],
   "source": [
    "df <- read.csv('../data/processed/quality_text_progress.csv')\n",
    "df$expertiseLevel <- factor(df$expertiseLevel, levels=c('N', 'I', 'E'))\n",
    "m1 <- lmer(rouge1 ~ expertiseLevel * iteration + (1|userID), data=df)\n",
    "print(report(m1), verbose=TRUE)"
   ]
  },
  {
   "cell_type": "code",
   "execution_count": 4,
   "metadata": {
    "vscode": {
     "languageId": "r"
    }
   },
   "outputs": [
    {
     "name": "stderr",
     "output_type": "stream",
     "text": [
      "boundary (singular) fit: see help('isSingular')\n",
      "\n",
      "boundary (singular) fit: see help('isSingular')\n",
      "\n"
     ]
    },
    {
     "name": "stdout",
     "output_type": "stream",
     "text": [
      "\u001b[31mRandom effect variances not available. Returned R2 does not account for random effects.\n",
      "\u001b[39m"
     ]
    },
    {
     "name": "stderr",
     "output_type": "stream",
     "text": [
      "boundary (singular) fit: see help('isSingular')\n",
      "\n"
     ]
    },
    {
     "name": "stdout",
     "output_type": "stream",
     "text": [
      "\u001b[31mRandom effect variances not available. Returned R2 does not account for random effects.\n",
      "\u001b[39mWe fitted a linear mixed model (estimated using REML and nloptwrap optimizer)\n",
      "to predict rouge2 with expertiseLevel and iteration\n",
      " (formula: rouge2 ~ expertiseLevel * iteration). The model included userID\n",
      " as random effect (formula: ~1 | userID). The model's explanatory power related\n",
      "to the fixed effects alone (marginal R2) is 1.01e-03. The model's intercept,\n",
      "corresponding to expertiseLevel = N and iteration = 0\n",
      ", is at 0.20 (95% CI [0.18, 0.23], t(1192) = 14.81, p < .001). Within this\n",
      "model:\n",
      "\n",
      "  - The effect of expertiseLevel [I] is statistically non-significant and\n",
      "positive (beta = 4.48e-03, 95% CI [-0.04, 0.04], t(1192) = 0.22, p = 0.826;\n",
      "Std. beta = 0.07, 95% CI [-0.07, 0.21])\n",
      "  - The effect of expertiseLevel [E] is statistically non-significant and\n",
      "positive (beta = 6.66e-03, 95% CI [-0.03, 0.04], t(1192) = 0.34, p = 0.733;\n",
      "Std. beta = 0.04, 95% CI [-0.10, 0.17])\n",
      "  - The effect of iteration is statistically non-significant and positive (beta =\n",
      "1.00e-04, 95% CI [-2.34e-03, 2.54e-03], t(1192) = 0.08, p = 0.936; Std. beta =\n",
      "3.94e-03, 95% CI [-0.09, 0.10])\n",
      "  - The interaction effect of iteration on expertiseLevel [I] is statistically\n",
      "non-significant and positive (beta = 5.94e-04, 95% CI [-2.99e-03, 4.18e-03],\n",
      "t(1192) = 0.33, p = 0.745; Std. beta = 0.02, 95% CI [-0.12, 0.16])\n",
      "  - The interaction effect of iteration on expertiseLevel [E] is statistically\n",
      "non-significant and negative (beta = -9.30e-05, 95% CI [-3.54e-03, 3.35e-03],\n",
      "t(1192) = -0.05, p = 0.958; Std. beta = -3.66e-03, 95% CI [-0.14, 0.13])\n",
      "\n",
      "Standardized parameters were obtained by fitting the model on a standardized\n",
      "version of the dataset. 95% Confidence Intervals (CIs) and p-values were\n",
      "computed using a Wald t-distribution approximation.\n"
     ]
    }
   ],
   "source": [
    "df <- read.csv('../data/processed/quality_text_progress.csv')\n",
    "df$expertiseLevel <- factor(df$expertiseLevel, levels=c('N', 'I', 'E'))\n",
    "m1 <- lmer(rouge2 ~ expertiseLevel * iteration + (1|userID), data=df)\n",
    "print(report(m1), verbose=TRUE)"
   ]
  },
  {
   "cell_type": "code",
   "execution_count": 5,
   "metadata": {
    "vscode": {
     "languageId": "r"
    }
   },
   "outputs": [
    {
     "name": "stderr",
     "output_type": "stream",
     "text": [
      "boundary (singular) fit: see help('isSingular')\n",
      "\n",
      "boundary (singular) fit: see help('isSingular')\n",
      "\n"
     ]
    },
    {
     "name": "stdout",
     "output_type": "stream",
     "text": [
      "\u001b[31mRandom effect variances not available. Returned R2 does not account for random effects.\n",
      "\u001b[39m"
     ]
    },
    {
     "name": "stderr",
     "output_type": "stream",
     "text": [
      "boundary (singular) fit: see help('isSingular')\n",
      "\n"
     ]
    },
    {
     "name": "stdout",
     "output_type": "stream",
     "text": [
      "\u001b[31mRandom effect variances not available. Returned R2 does not account for random effects.\n",
      "\u001b[39mWe fitted a linear mixed model (estimated using REML and nloptwrap optimizer)\n",
      "to predict rougeL with expertiseLevel and iteration\n",
      " (formula: rougeL ~ expertiseLevel * iteration). The model included userID\n",
      " as random effect (formula: ~1 | userID). The model's explanatory power related\n",
      "to the fixed effects alone (marginal R2) is 1.35e-03. The model's intercept,\n",
      "corresponding to expertiseLevel = N and iteration = 0\n",
      ", is at 0.31 (95% CI [0.28, 0.34], t(1192) = 21.52, p < .001). Within this\n",
      "model:\n",
      "\n",
      "  - The effect of expertiseLevel [I] is statistically non-significant and\n",
      "positive (beta = 5.72e-03, 95% CI [-0.04, 0.05], t(1192) = 0.27, p = 0.789;\n",
      "Std. beta = 0.08, 95% CI [-0.06, 0.23])\n",
      "  - The effect of expertiseLevel [E] is statistically non-significant and\n",
      "positive (beta = 6.87e-03, 95% CI [-0.03, 0.05], t(1192) = 0.34, p = 0.737;\n",
      "Std. beta = 0.05, 95% CI [-0.09, 0.18])\n",
      "  - The effect of iteration is statistically non-significant and negative (beta =\n",
      "-1.64e-04, 95% CI [-2.72e-03, 2.39e-03], t(1192) = -0.13, p = 0.900; Std. beta\n",
      "= -6.14e-03, 95% CI [-0.10, 0.09])\n",
      "  - The interaction effect of iteration on expertiseLevel [I] is statistically\n",
      "non-significant and positive (beta = 7.70e-04, 95% CI [-2.99e-03, 4.53e-03],\n",
      "t(1192) = 0.40, p = 0.688; Std. beta = 0.03, 95% CI [-0.11, 0.17])\n",
      "  - The interaction effect of iteration on expertiseLevel [E] is statistically\n",
      "non-significant and positive (beta = 4.19e-05, 95% CI [-3.57e-03, 3.66e-03],\n",
      "t(1192) = 0.02, p = 0.982; Std. beta = 1.57e-03, 95% CI [-0.13, 0.14])\n",
      "\n",
      "Standardized parameters were obtained by fitting the model on a standardized\n",
      "version of the dataset. 95% Confidence Intervals (CIs) and p-values were\n",
      "computed using a Wald t-distribution approximation.\n"
     ]
    }
   ],
   "source": [
    "df <- read.csv('../data/processed/quality_text_progress.csv')\n",
    "df$expertiseLevel <- factor(df$expertiseLevel, levels=c('N', 'I', 'E'))\n",
    "m1 <- lmer(rougeL ~ expertiseLevel * iteration + (1|userID), data=df)\n",
    "print(report(m1), verbose=TRUE)"
   ]
  },
  {
   "cell_type": "code",
   "execution_count": 6,
   "metadata": {
    "vscode": {
     "languageId": "r"
    }
   },
   "outputs": [
    {
     "name": "stderr",
     "output_type": "stream",
     "text": [
      "boundary (singular) fit: see help('isSingular')\n",
      "\n",
      "boundary (singular) fit: see help('isSingular')\n",
      "\n"
     ]
    },
    {
     "name": "stdout",
     "output_type": "stream",
     "text": [
      "\u001b[31mRandom effect variances not available. Returned R2 does not account for random effects.\n",
      "\u001b[39m"
     ]
    },
    {
     "name": "stderr",
     "output_type": "stream",
     "text": [
      "boundary (singular) fit: see help('isSingular')\n",
      "\n"
     ]
    },
    {
     "name": "stdout",
     "output_type": "stream",
     "text": [
      "\u001b[31mRandom effect variances not available. Returned R2 does not account for random effects.\n",
      "\u001b[39mWe fitted a linear mixed model (estimated using REML and nloptwrap optimizer)\n",
      "to predict BLEU with expertiseLevel and iteration\n",
      " (formula: BLEU ~ expertiseLevel * iteration). The model included userID\n",
      " as random effect (formula: ~1 | userID). The model's explanatory power related\n",
      "to the fixed effects alone (marginal R2) is 5.62e-04. The model's intercept,\n",
      "corresponding to expertiseLevel = N and iteration = 0\n",
      ", is at 0.11 (95% CI [0.08, 0.13], t(1192) = 7.83, p < .001). Within this model:\n",
      "\n",
      "  - The effect of expertiseLevel [I] is statistically non-significant and\n",
      "negative (beta = -8.61e-04, 95% CI [-0.04, 0.04], t(1192) = -0.04, p = 0.965;\n",
      "Std. beta = 0.05, 95% CI [-0.09, 0.19])\n",
      "  - The effect of expertiseLevel [E] is statistically non-significant and\n",
      "positive (beta = 2.11e-03, 95% CI [-0.04, 0.04], t(1192) = 0.11, p = 0.912;\n",
      "Std. beta = 0.02, 95% CI [-0.12, 0.16])\n",
      "  - The effect of iteration is statistically non-significant and negative (beta =\n",
      "-2.12e-04, 95% CI [-2.59e-03, 2.16e-03], t(1192) = -0.18, p = 0.861; Std. beta\n",
      "= -8.57e-03, 95% CI [-0.10, 0.09])\n",
      "  - The interaction effect of iteration on expertiseLevel [I] is statistically\n",
      "non-significant and positive (beta = 7.99e-04, 95% CI [-2.70e-03, 4.30e-03],\n",
      "t(1192) = 0.45, p = 0.654; Std. beta = 0.03, 95% CI [-0.11, 0.17])\n",
      "  - The interaction effect of iteration on expertiseLevel [E] is statistically\n",
      "non-significant and positive (beta = 8.01e-05, 95% CI [-3.28e-03, 3.44e-03],\n",
      "t(1192) = 0.05, p = 0.963; Std. beta = 3.23e-03, 95% CI [-0.13, 0.14])\n",
      "\n",
      "Standardized parameters were obtained by fitting the model on a standardized\n",
      "version of the dataset. 95% Confidence Intervals (CIs) and p-values were\n",
      "computed using a Wald t-distribution approximation.\n"
     ]
    }
   ],
   "source": [
    "df <- read.csv('../data/processed/quality_text_progress.csv')\n",
    "df$expertiseLevel <- factor(df$expertiseLevel, levels=c('N', 'I', 'E'))\n",
    "m1 <- lmer(BLEU ~ expertiseLevel * iteration + (1|userID), data=df)\n",
    "print(report(m1), verbose=TRUE)"
   ]
  },
  {
   "cell_type": "markdown",
   "metadata": {},
   "source": [
    "## Image"
   ]
  },
  {
   "cell_type": "code",
   "execution_count": 7,
   "metadata": {
    "vscode": {
     "languageId": "r"
    }
   },
   "outputs": [
    {
     "name": "stdout",
     "output_type": "stream",
     "text": [
      "We fitted a linear mixed model (estimated using REML and nloptwrap optimizer)\n",
      "to predict brightness with expertiseLevel and iteration\n",
      " (formula: brightness ~ expertiseLevel * iteration). The model included userID\n",
      " as random effect (formula: ~1 | userID). The model's total explanatory power is\n",
      "weak (conditional R2 = 0.08) and the part related to the fixed effects alone\n",
      "(marginal R2) is of 0.01. The model's intercept, corresponding to\n",
      "expertiseLevel = N and iteration = 0\n",
      ", is at 0.45 (95% CI [-7.11, 8.02], t(1192) = 0.12, p = 0.907). Within this\n",
      "model:\n",
      "\n",
      "  - The effect of expertiseLevel [I] is statistically non-significant and\n",
      "negative (beta = -2.40, 95% CI [-13.10, 8.30], t(1192) = -0.44, p = 0.660; Std.\n",
      "beta = 0.08, 95% CI [-0.22, 0.39])\n",
      "  - The effect of expertiseLevel [E] is statistically non-significant and\n",
      "positive (beta = 0.76, 95% CI [-10.38, 11.89], t(1192) = 0.13, p = 0.894; Std.\n",
      "beta = 0.26, 95% CI [-0.06, 0.58])\n",
      "  - The effect of iteration is statistically non-significant and negative (beta =\n",
      "-0.32, 95% CI [-0.78, 0.14], t(1192) = -1.37, p = 0.172; Std. beta = -0.06, 95%\n",
      "CI [-0.16, 0.03])\n",
      "  - The interaction effect of iteration on expertiseLevel [I] is statistically\n",
      "non-significant and positive (beta = 0.50, 95% CI [-0.15, 1.15], t(1192) =\n",
      "1.50, p = 0.134; Std. beta = 0.10, 95% CI [-0.03, 0.23])\n",
      "  - The interaction effect of iteration on expertiseLevel [E] is statistically\n",
      "significant and positive (beta = 0.70, 95% CI [0.03, 1.38], t(1192) = 2.04, p =\n",
      "0.042; Std. beta = 0.14, 95% CI [5.39e-03, 0.28])\n",
      "\n",
      "Standardized parameters were obtained by fitting the model on a standardized\n",
      "version of the dataset. 95% Confidence Intervals (CIs) and p-values were\n",
      "computed using a Wald t-distribution approximation.\n"
     ]
    }
   ],
   "source": [
    "df <- read.csv('../data/processed/quality_image_progress.csv')\n",
    "df$expertiseLevel <- factor(df$expertiseLevel, levels=c('N', 'I', 'E'))\n",
    "m1 <- lmer(brightness ~ expertiseLevel * iteration + (1|userID), data=df)\n",
    "print(report(m1), verbose=TRUE)"
   ]
  },
  {
   "cell_type": "code",
   "execution_count": 8,
   "metadata": {
    "vscode": {
     "languageId": "r"
    }
   },
   "outputs": [
    {
     "name": "stdout",
     "output_type": "stream",
     "text": [
      "We fitted a linear mixed model (estimated using REML and nloptwrap optimizer)\n",
      "to predict contrast with expertiseLevel and iteration\n",
      " (formula: contrast ~ expertiseLevel * iteration). The model included userID\n",
      " as random effect (formula: ~1 | userID). The model's total explanatory power is\n",
      "weak (conditional R2 = 0.12) and the part related to the fixed effects alone\n",
      "(marginal R2) is of 0.04. The model's intercept, corresponding to\n",
      "expertiseLevel = N and iteration = 0\n",
      ", is at -14.76 (95% CI [-25.20, -4.33], t(1192) = -2.78, p = 0.006). Within\n",
      "this model:\n",
      "\n",
      "  - The effect of expertiseLevel [I] is statistically non-significant and\n",
      "negative (beta = -10.15, 95% CI [-24.91, 4.60], t(1192) = -1.35, p = 0.177;\n",
      "Std. beta = -0.21, 95% CI [-0.53, 0.11])\n",
      "  - The effect of expertiseLevel [E] is statistically non-significant and\n",
      "negative (beta = -7.04, 95% CI [-22.40, 8.32], t(1192) = -0.90, p = 0.369; Std.\n",
      "beta = -0.03, 95% CI [-0.37, 0.30])\n",
      "  - The effect of iteration is statistically significant and negative (beta =\n",
      "-1.45, 95% CI [-2.05, -0.84], t(1192) = -4.71, p < .001; Std. beta = -0.22, 95%\n",
      "CI [-0.31, -0.13])\n",
      "  - The interaction effect of iteration on expertiseLevel [I] is statistically\n",
      "non-significant and positive (beta = 0.22, 95% CI [-0.63, 1.07], t(1192) =\n",
      "0.51, p = 0.612; Std. beta = 0.03, 95% CI [-0.09, 0.16])\n",
      "  - The interaction effect of iteration on expertiseLevel [E] is statistically\n",
      "non-significant and positive (beta = 0.60, 95% CI [-0.29, 1.49], t(1192) =\n",
      "1.33, p = 0.185; Std. beta = 0.09, 95% CI [-0.04, 0.22])\n",
      "\n",
      "Standardized parameters were obtained by fitting the model on a standardized\n",
      "version of the dataset. 95% Confidence Intervals (CIs) and p-values were\n",
      "computed using a Wald t-distribution approximation.\n"
     ]
    }
   ],
   "source": [
    "df <- read.csv('../data/processed/quality_image_progress.csv')\n",
    "df$expertiseLevel <- factor(df$expertiseLevel, levels=c('N', 'I', 'E'))\n",
    "m1 <- lmer(contrast ~ expertiseLevel * iteration + (1|userID), data=df)\n",
    "print(report(m1), verbose=TRUE)"
   ]
  },
  {
   "cell_type": "code",
   "execution_count": 9,
   "metadata": {
    "vscode": {
     "languageId": "r"
    }
   },
   "outputs": [
    {
     "name": "stdout",
     "output_type": "stream",
     "text": [
      "We fitted a linear mixed model (estimated using REML and nloptwrap optimizer)\n",
      "to predict saturation with expertiseLevel and iteration\n",
      " (formula: saturation ~ expertiseLevel * iteration). The model included userID\n",
      " as random effect (formula: ~1 | userID). The model's total explanatory power is\n",
      "weak (conditional R2 = 0.03) and the part related to the fixed effects alone\n",
      "(marginal R2) is of 0.01. The model's intercept, corresponding to\n",
      "expertiseLevel = N and iteration = 0\n",
      ", is at 10.64 (95% CI [6.67, 14.60], t(1192) = 5.26, p < .001). Within this\n",
      "model:\n",
      "\n",
      "  - The effect of expertiseLevel [I] is statistically significant and positive\n",
      "(beta = 6.34, 95% CI [0.73, 11.95], t(1192) = 2.22, p = 0.027; Std. beta =\n",
      "0.08, 95% CI [-0.10, 0.26])\n",
      "  - The effect of expertiseLevel [E] is statistically non-significant and\n",
      "negative (beta = -0.96, 95% CI [-6.80, 4.88], t(1192) = -0.32, p = 0.747; Std.\n",
      "beta = 0.11, 95% CI [-0.08, 0.30])\n",
      "  - The effect of iteration is statistically non-significant and positive (beta =\n",
      "0.06, 95% CI [-0.27, 0.38], t(1192) = 0.34, p = 0.735; Std. beta = 0.02, 95% CI\n",
      "[-0.08, 0.11])\n",
      "  - The interaction effect of iteration on expertiseLevel [I] is statistically\n",
      "significant and negative (beta = -0.50, 95% CI [-0.96, -0.05], t(1192) = -2.16,\n",
      "p = 0.031; Std. beta = -0.15, 95% CI [-0.28, -0.01])\n",
      "  - The interaction effect of iteration on expertiseLevel [E] is statistically\n",
      "non-significant and positive (beta = 0.32, 95% CI [-0.15, 0.80], t(1192) =\n",
      "1.33, p = 0.185; Std. beta = 0.09, 95% CI [-0.05, 0.23])\n",
      "\n",
      "Standardized parameters were obtained by fitting the model on a standardized\n",
      "version of the dataset. 95% Confidence Intervals (CIs) and p-values were\n",
      "computed using a Wald t-distribution approximation.\n"
     ]
    }
   ],
   "source": [
    "df <- read.csv('../data/processed/quality_image_progress.csv')\n",
    "df$expertiseLevel <- factor(df$expertiseLevel, levels=c('N', 'I', 'E'))\n",
    "m1 <- lmer(saturation ~ expertiseLevel * iteration + (1|userID), data=df)\n",
    "print(report(m1), verbose=TRUE)"
   ]
  },
  {
   "cell_type": "code",
   "execution_count": 10,
   "metadata": {
    "vscode": {
     "languageId": "r"
    }
   },
   "outputs": [
    {
     "name": "stdout",
     "output_type": "stream",
     "text": [
      "We fitted a linear mixed model (estimated using REML and nloptwrap optimizer)\n",
      "to predict temperature with expertiseLevel and iteration\n",
      " (formula: temperature ~ expertiseLevel * iteration). The model included userID\n",
      " as random effect (formula: ~1 | userID). The model's total explanatory power is\n",
      "weak (conditional R2 = 0.11) and the part related to the fixed effects alone\n",
      "(marginal R2) is of 0.01. The model's intercept, corresponding to\n",
      "expertiseLevel = N and iteration = 0\n",
      ", is at -2.03 (95% CI [-5.34, 1.27], t(1192) = -1.21, p = 0.227). Within this\n",
      "model:\n",
      "\n",
      "  - The effect of expertiseLevel [I] is statistically non-significant and\n",
      "positive (beta = 0.91, 95% CI [-3.76, 5.58], t(1192) = 0.38, p = 0.702; Std.\n",
      "beta = 0.15, 95% CI [-0.20, 0.50])\n",
      "  - The effect of expertiseLevel [E] is statistically non-significant and\n",
      "positive (beta = 3.05, 95% CI [-1.82, 7.91], t(1192) = 1.23, p = 0.219; Std.\n",
      "beta = 0.02, 95% CI [-0.34, 0.37])\n",
      "  - The effect of iteration is statistically significant and positive (beta =\n",
      "0.19, 95% CI [3.78e-03, 0.37], t(1192) = 2.00, p = 0.045; Std. beta = 0.09, 95%\n",
      "CI [1.89e-03, 0.18])\n",
      "  - The interaction effect of iteration on expertiseLevel [I] is statistically\n",
      "non-significant and positive (beta = 0.09, 95% CI [-0.17, 0.34], t(1192) =\n",
      "0.65, p = 0.517; Std. beta = 0.04, 95% CI [-0.09, 0.17])\n",
      "  - The interaction effect of iteration on expertiseLevel [E] is statistically\n",
      "significant and negative (beta = -0.30, 95% CI [-0.57, -0.03], t(1192) = -2.21,\n",
      "p = 0.027; Std. beta = -0.15, 95% CI [-0.29, -0.02])\n",
      "\n",
      "Standardized parameters were obtained by fitting the model on a standardized\n",
      "version of the dataset. 95% Confidence Intervals (CIs) and p-values were\n",
      "computed using a Wald t-distribution approximation.\n"
     ]
    }
   ],
   "source": [
    "df <- read.csv('../data/processed/quality_image_progress.csv')\n",
    "df$expertiseLevel <- factor(df$expertiseLevel, levels=c('N', 'I', 'E'))\n",
    "m1 <- lmer(temperature ~ expertiseLevel * iteration + (1|userID), data=df)\n",
    "print(report(m1), verbose=TRUE)"
   ]
  },
  {
   "cell_type": "code",
   "execution_count": 11,
   "metadata": {
    "vscode": {
     "languageId": "r"
    }
   },
   "outputs": [
    {
     "name": "stdout",
     "output_type": "stream",
     "text": [
      "We fitted a linear mixed model (estimated using REML and nloptwrap optimizer)\n",
      "to predict tint with expertiseLevel and iteration\n",
      " (formula: tint ~ expertiseLevel * iteration). The model included userID\n",
      " as random effect (formula: ~1 | userID). The model's total explanatory power is\n",
      "weak (conditional R2 = 0.09) and the part related to the fixed effects alone\n",
      "(marginal R2) is of 0.02. The model's intercept, corresponding to\n",
      "expertiseLevel = N and iteration = 0\n",
      ", is at -1.48 (95% CI [-3.81, 0.84], t(1192) = -1.25, p = 0.211). Within this\n",
      "model:\n",
      "\n",
      "  - The effect of expertiseLevel [I] is statistically non-significant and\n",
      "positive (beta = 1.09, 95% CI [-2.20, 4.38], t(1192) = 0.65, p = 0.515; Std.\n",
      "beta = 0.11, 95% CI [-0.19, 0.41])\n",
      "  - The effect of expertiseLevel [E] is statistically non-significant and\n",
      "negative (beta = -1.71, 95% CI [-5.13, 1.71], t(1192) = -0.98, p = 0.328; Std.\n",
      "beta = 0.20, 95% CI [-0.11, 0.51])\n",
      "  - The effect of iteration is statistically non-significant and negative (beta =\n",
      "-0.02, 95% CI [-0.17, 0.12], t(1192) = -0.34, p = 0.737; Std. beta = -0.02, 95%\n",
      "CI [-0.11, 0.08])\n",
      "  - The interaction effect of iteration on expertiseLevel [I] is statistically\n",
      "non-significant and negative (beta = -0.01, 95% CI [-0.22, 0.19], t(1192) =\n",
      "-0.14, p = 0.890; Std. beta = -9.15e-03, 95% CI [-0.14, 0.12])\n",
      "  - The interaction effect of iteration on expertiseLevel [E] is statistically\n",
      "significant and positive (beta = 0.37, 95% CI [0.16, 0.58], t(1192) = 3.45, p <\n",
      ".001; Std. beta = 0.24, 95% CI [0.10, 0.37])\n",
      "\n",
      "Standardized parameters were obtained by fitting the model on a standardized\n",
      "version of the dataset. 95% Confidence Intervals (CIs) and p-values were\n",
      "computed using a Wald t-distribution approximation.\n"
     ]
    }
   ],
   "source": [
    "df <- read.csv('../data/processed/quality_image_progress.csv')\n",
    "df$expertiseLevel <- factor(df$expertiseLevel, levels=c('N', 'I', 'E'))\n",
    "m1 <- lmer(tint ~ expertiseLevel * iteration + (1|userID), data=df)\n",
    "print(report(m1), verbose=TRUE)"
   ]
  },
  {
   "cell_type": "markdown",
   "metadata": {},
   "source": [
    "## Mesh"
   ]
  },
  {
   "cell_type": "code",
   "execution_count": 12,
   "metadata": {
    "vscode": {
     "languageId": "r"
    }
   },
   "outputs": [
    {
     "name": "stdout",
     "output_type": "stream",
     "text": [
      "We fitted a linear mixed model (estimated using REML and nloptwrap optimizer)\n",
      "to predict reduction_ratio with expertiseLevel and iteration\n",
      " (formula: reduction_ratio ~ expertiseLevel * iteration). The model included\n",
      "userID\n",
      " as random effect (formula: ~1 | userID). The model's total explanatory power is\n",
      "moderate (conditional R2 = 0.22) and the part related to the fixed effects\n",
      "alone (marginal R2) is of 0.01. The model's intercept, corresponding to\n",
      "expertiseLevel = N and iteration = 0\n",
      ", is at 0.56 (95% CI [0.49, 0.63], t(1192) = 15.98, p < .001). Within this\n",
      "model:\n",
      "\n",
      "  - The effect of expertiseLevel [I] is statistically non-significant and\n",
      "positive (beta = 0.02, 95% CI [-0.08, 0.12], t(1192) = 0.45, p = 0.651; Std.\n",
      "beta = -0.13, 95% CI [-0.64, 0.38])\n",
      "  - The effect of expertiseLevel [E] is statistically non-significant and\n",
      "negative (beta = -7.15e-03, 95% CI [-0.11, 0.09], t(1192) = -0.14, p = 0.890;\n",
      "Std. beta = -0.15, 95% CI [-0.68, 0.37])\n",
      "  - The effect of iteration is statistically non-significant and positive (beta =\n",
      "9.13e-04, 95% CI [-1.75e-03, 3.58e-03], t(1192) = 0.67, p = 0.502; Std. beta =\n",
      "0.03, 95% CI [-0.06, 0.12])\n",
      "  - The interaction effect of iteration on expertiseLevel [I] is statistically\n",
      "significant and negative (beta = -4.82e-03, 95% CI [-8.59e-03, -1.06e-03],\n",
      "t(1192) = -2.51, p = 0.012; Std. beta = -0.16, 95% CI [-0.28, -0.03])\n",
      "  - The interaction effect of iteration on expertiseLevel [E] is statistically\n",
      "non-significant and negative (beta = -2.15e-03, 95% CI [-6.08e-03, 1.77e-03],\n",
      "t(1192) = -1.08, p = 0.282; Std. beta = -0.07, 95% CI [-0.20, 0.06])\n",
      "\n",
      "Standardized parameters were obtained by fitting the model on a standardized\n",
      "version of the dataset. 95% Confidence Intervals (CIs) and p-values were\n",
      "computed using a Wald t-distribution approximation.\n"
     ]
    }
   ],
   "source": [
    "df <- read.csv('../data/processed/quality_mesh_progress.csv')\n",
    "df$expertiseLevel <- factor(df$expertiseLevel, levels=c('N', 'I', 'E'))\n",
    "m1 <- lmer(reduction_ratio ~ expertiseLevel * iteration + (1|userID), data=df)\n",
    "print(report(m1), verbose=TRUE)"
   ]
  },
  {
   "cell_type": "code",
   "execution_count": 13,
   "metadata": {
    "vscode": {
     "languageId": "r"
    }
   },
   "outputs": [
    {
     "name": "stdout",
     "output_type": "stream",
     "text": [
      "We fitted a linear mixed model (estimated using REML and nloptwrap optimizer)\n",
      "to predict ssim with expertiseLevel and iteration\n",
      " (formula: ssim ~ expertiseLevel * iteration). The model included userID\n",
      " as random effect (formula: ~1 | userID). The model's total explanatory power is\n",
      "moderate (conditional R2 = 0.14) and the part related to the fixed effects\n",
      "alone (marginal R2) is of 0.02. The model's intercept, corresponding to\n",
      "expertiseLevel = N and iteration = 0\n",
      ", is at 0.96 (95% CI [0.96, 0.97], t(1192) = 609.01, p < .001). Within this\n",
      "model:\n",
      "\n",
      "  - The effect of expertiseLevel [I] is statistically non-significant and\n",
      "negative (beta = -7.68e-04, 95% CI [-5.16e-03, 3.63e-03], t(1192) = -0.34, p =\n",
      "0.732; Std. beta = 0.16, 95% CI [-0.24, 0.55])\n",
      "  - The effect of expertiseLevel [E] is statistically non-significant and\n",
      "negative (beta = -1.77e-03, 95% CI [-6.34e-03, 2.80e-03], t(1192) = -0.76, p =\n",
      "0.448; Std. beta = 0.21, 95% CI [-0.20, 0.62])\n",
      "  - The effect of iteration is statistically significant and negative (beta =\n",
      "-2.84e-04, 95% CI [-4.37e-04, -1.31e-04], t(1192) = -3.65, p < .001; Std. beta\n",
      "= -0.17, 95% CI [-0.26, -0.08])\n",
      "  - The interaction effect of iteration on expertiseLevel [I] is statistically\n",
      "significant and positive (beta = 2.43e-04, 95% CI [2.69e-05, 4.59e-04], t(1192)\n",
      "= 2.21, p = 0.028; Std. beta = 0.14, 95% CI [0.02, 0.27])\n",
      "  - The interaction effect of iteration on expertiseLevel [E] is statistically\n",
      "significant and positive (beta = 4.03e-04, 95% CI [1.78e-04, 6.28e-04], t(1192)\n",
      "= 3.52, p < .001; Std. beta = 0.24, 95% CI [0.10, 0.37])\n",
      "\n",
      "Standardized parameters were obtained by fitting the model on a standardized\n",
      "version of the dataset. 95% Confidence Intervals (CIs) and p-values were\n",
      "computed using a Wald t-distribution approximation.\n"
     ]
    }
   ],
   "source": [
    "df <- read.csv('../data/processed/quality_mesh_progress.csv')\n",
    "df$expertiseLevel <- factor(df$expertiseLevel, levels=c('N', 'I', 'E'))\n",
    "m1 <- lmer(ssim ~ expertiseLevel * iteration + (1|userID), data=df)\n",
    "print(report(m1), verbose=TRUE)"
   ]
  },
  {
   "cell_type": "code",
   "execution_count": 14,
   "metadata": {
    "vscode": {
     "languageId": "r"
    }
   },
   "outputs": [
    {
     "name": "stdout",
     "output_type": "stream",
     "text": [
      "We fitted a linear mixed model (estimated using REML and nloptwrap optimizer)\n",
      "to predict psnr with expertiseLevel and iteration\n",
      " (formula: psnr ~ expertiseLevel * iteration). The model included userID\n",
      " as random effect (formula: ~1 | userID). The model's total explanatory power is\n",
      "weak (conditional R2 = 0.07) and the part related to the fixed effects alone\n",
      "(marginal R2) is of 7.22e-03. The model's intercept, corresponding to\n",
      "expertiseLevel = N and iteration = 0\n",
      ", is at 25.53 (95% CI [24.81, 26.25], t(1192) = 69.55, p < .001). Within this\n",
      "model:\n",
      "\n",
      "  - The effect of expertiseLevel [I] is statistically non-significant and\n",
      "negative (beta = -0.22, 95% CI [-1.24, 0.80], t(1192) = -0.42, p = 0.672; Std.\n",
      "beta = 0.09, 95% CI [-0.21, 0.40])\n",
      "  - The effect of expertiseLevel [E] is statistically non-significant and\n",
      "negative (beta = -0.51, 95% CI [-1.57, 0.55], t(1192) = -0.95, p = 0.342; Std.\n",
      "beta = 0.10, 95% CI [-0.22, 0.42])\n",
      "  - The effect of iteration is statistically significant and negative (beta =\n",
      "-0.05, 95% CI [-0.09, -2.81e-03], t(1192) = -2.09, p = 0.037; Std. beta =\n",
      "-0.10, 95% CI [-0.19, -5.95e-03])\n",
      "  - The interaction effect of iteration on expertiseLevel [I] is statistically\n",
      "non-significant and positive (beta = 0.05, 95% CI [-0.01, 0.11], t(1192) =\n",
      "1.59, p = 0.112; Std. beta = 0.11, 95% CI [-0.02, 0.24])\n",
      "  - The interaction effect of iteration on expertiseLevel [E] is statistically\n",
      "significant and positive (beta = 0.08, 95% CI [0.02, 0.15], t(1192) = 2.51, p =\n",
      "0.012; Std. beta = 0.17, 95% CI [0.04, 0.31])\n",
      "\n",
      "Standardized parameters were obtained by fitting the model on a standardized\n",
      "version of the dataset. 95% Confidence Intervals (CIs) and p-values were\n",
      "computed using a Wald t-distribution approximation.\n"
     ]
    }
   ],
   "source": [
    "df <- read.csv('../data/processed/quality_mesh_progress.csv')\n",
    "df$expertiseLevel <- factor(df$expertiseLevel, levels=c('N', 'I', 'E'))\n",
    "m1 <- lmer(psnr ~ expertiseLevel * iteration + (1|userID), data=df)\n",
    "print(report(m1), verbose=TRUE)"
   ]
  },
  {
   "cell_type": "code",
   "execution_count": 15,
   "metadata": {
    "vscode": {
     "languageId": "r"
    }
   },
   "outputs": [
    {
     "name": "stdout",
     "output_type": "stream",
     "text": [
      "We fitted a linear mixed model (estimated using REML and nloptwrap optimizer)\n",
      "to predict cell with expertiseLevel and iteration\n",
      " (formula: cell ~ expertiseLevel * iteration). The model included userID\n",
      " as random effect (formula: ~1 | userID). The model's total explanatory power is\n",
      "weak (conditional R2 = 0.11) and the part related to the fixed effects alone\n",
      "(marginal R2) is of 0.01. The model's intercept, corresponding to\n",
      "expertiseLevel = N and iteration = 0\n",
      ", is at 0.14 (95% CI [0.11, 0.16], t(1192) = 11.75, p < .001). Within this\n",
      "model:\n",
      "\n",
      "  - The effect of expertiseLevel [I] is statistically non-significant and\n",
      "positive (beta = 7.61e-03, 95% CI [-0.02, 0.04], t(1192) = 0.47, p = 0.640;\n",
      "Std. beta = 0.05, 95% CI [-0.30, 0.41])\n",
      "  - The effect of expertiseLevel [E] is statistically non-significant and\n",
      "positive (beta = 0.01, 95% CI [-0.02, 0.04], t(1192) = 0.60, p = 0.548; Std.\n",
      "beta = -0.12, 95% CI [-0.49, 0.25])\n",
      "  - The effect of iteration is statistically non-significant and positive (beta =\n",
      "1.15e-04, 95% CI [-1.11e-03, 1.34e-03], t(1192) = 0.18, p = 0.853; Std. beta =\n",
      "8.59e-03, 95% CI [-0.08, 0.10])\n",
      "  - The interaction effect of iteration on expertiseLevel [I] is statistically\n",
      "non-significant and negative (beta = -3.77e-04, 95% CI [-2.11e-03, 1.35e-03],\n",
      "t(1192) = -0.43, p = 0.669; Std. beta = -0.03, 95% CI [-0.16, 0.10])\n",
      "  - The interaction effect of iteration on expertiseLevel [E] is statistically\n",
      "significant and negative (beta = -2.04e-03, 95% CI [-3.84e-03, -2.39e-04],\n",
      "t(1192) = -2.22, p = 0.026; Std. beta = -0.15, 95% CI [-0.29, -0.02])\n",
      "\n",
      "Standardized parameters were obtained by fitting the model on a standardized\n",
      "version of the dataset. 95% Confidence Intervals (CIs) and p-values were\n",
      "computed using a Wald t-distribution approximation.\n"
     ]
    }
   ],
   "source": [
    "df <- read.csv('../data/processed/quality_mesh_progress.csv')\n",
    "df$expertiseLevel <- factor(df$expertiseLevel, levels=c('N', 'I', 'E'))\n",
    "m1 <- lmer(cell ~ expertiseLevel * iteration + (1|userID), data=df)\n",
    "print(report(m1), verbose=TRUE)"
   ]
  },
  {
   "cell_type": "code",
   "execution_count": 16,
   "metadata": {
    "vscode": {
     "languageId": "r"
    }
   },
   "outputs": [
    {
     "name": "stdout",
     "output_type": "stream",
     "text": [
      "We fitted a linear mixed model (estimated using REML and nloptwrap optimizer)\n",
      "to predict surf with expertiseLevel and iteration\n",
      " (formula: surf ~ expertiseLevel * iteration). The model included userID\n",
      " as random effect (formula: ~1 | userID). The model's total explanatory power is\n",
      "weak (conditional R2 = 0.11) and the part related to the fixed effects alone\n",
      "(marginal R2) is of 0.05. The model's intercept, corresponding to\n",
      "expertiseLevel = N and iteration = 0\n",
      ", is at 1.12e-04 (95% CI [-2.11e-03, 2.34e-03], t(1192) = 0.10, p = 0.922).\n",
      "Within this model:\n",
      "\n",
      "  - The effect of expertiseLevel [I] is statistically non-significant and\n",
      "positive (beta = 1.33e-03, 95% CI [-1.81e-03, 4.48e-03], t(1192) = 0.83, p =\n",
      "0.406; Std. beta = -0.08, 95% CI [-0.37, 0.21])\n",
      "  - The effect of expertiseLevel [E] is statistically significant and positive\n",
      "(beta = 3.33e-03, 95% CI [5.78e-05, 6.61e-03], t(1192) = 2.00, p = 0.046; Std.\n",
      "beta = -0.23, 95% CI [-0.53, 0.07])\n",
      "  - The effect of iteration is statistically significant and positive (beta =\n",
      "4.70e-04, 95% CI [3.32e-04, 6.09e-04], t(1192) = 6.67, p < .001; Std. beta =\n",
      "0.31, 95% CI [0.22, 0.40])\n",
      "  - The interaction effect of iteration on expertiseLevel [I] is statistically\n",
      "significant and negative (beta = -2.12e-04, 95% CI [-4.08e-04, -1.64e-05],\n",
      "t(1192) = -2.13, p = 0.034; Std. beta = -0.14, 95% CI [-0.27, -0.01])\n",
      "  - The interaction effect of iteration on expertiseLevel [E] is statistically\n",
      "significant and negative (beta = -5.65e-04, 95% CI [-7.68e-04, -3.61e-04],\n",
      "t(1192) = -5.44, p < .001; Std. beta = -0.37, 95% CI [-0.50, -0.24])\n",
      "\n",
      "Standardized parameters were obtained by fitting the model on a standardized\n",
      "version of the dataset. 95% Confidence Intervals (CIs) and p-values were\n",
      "computed using a Wald t-distribution approximation.\n"
     ]
    }
   ],
   "source": [
    "df <- read.csv('../data/processed/quality_mesh_progress.csv')\n",
    "df$expertiseLevel <- factor(df$expertiseLevel, levels=c('N', 'I', 'E'))\n",
    "m1 <- lmer(surf ~ expertiseLevel * iteration + (1|userID), data=df)\n",
    "print(report(m1), verbose=TRUE)"
   ]
  }
 ],
 "metadata": {
  "kernelspec": {
   "display_name": "R",
   "language": "R",
   "name": "ir"
  },
  "language_info": {
   "codemirror_mode": "r",
   "file_extension": ".r",
   "mimetype": "text/x-r-source",
   "name": "R",
   "pygments_lexer": "r",
   "version": "4.2.1"
  },
  "orig_nbformat": 4,
  "vscode": {
   "interpreter": {
    "hash": "ec1d61fc4a81f2219f6340afe696829c1c42ad9e85ab5049602126dfdcd926f3"
   }
  }
 },
 "nbformat": 4,
 "nbformat_minor": 2
}
