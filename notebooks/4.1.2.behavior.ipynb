{
 "cells": [
  {
   "attachments": {},
   "cell_type": "markdown",
   "metadata": {},
   "source": [
    "```\n",
    "Copyright 2023 by LMU Munich Media Informatics Group. All rights reserved.\n",
    "Created by [Changkun Ou](https://changkun.de)\n",
    "\n",
    "Use of this source code is governed by a GPLv3 license that\n",
    "can be found in the LICENSE file.\n",
    "```"
   ]
  },
  {
   "attachments": {},
   "cell_type": "markdown",
   "metadata": {},
   "source": [
    "This notebook reproduces the \"Section 4.1.2 Interaction Behaviors\" in the paper of \"The Impact of Expertise in the Loop for Exploring Machine Rationality\".\n",
    "\n",
    "The statistical method used in this notebook is Shapiro-Wilk test for normality, and the non-parametric Mann-Whitney U test for significance."
   ]
  },
  {
   "cell_type": "code",
   "execution_count": 1,
   "metadata": {
    "vscode": {
     "languageId": "r"
    }
   },
   "outputs": [
    {
     "name": "stderr",
     "output_type": "stream",
     "text": [
      "\n",
      "Attaching package: ‘dplyr’\n",
      "\n",
      "\n",
      "The following objects are masked from ‘package:stats’:\n",
      "\n",
      "    filter, lag\n",
      "\n",
      "\n",
      "The following objects are masked from ‘package:base’:\n",
      "\n",
      "    intersect, setdiff, setequal, union\n",
      "\n",
      "\n",
      "\n",
      "Attaching package: ‘effectsize’\n",
      "\n",
      "\n",
      "The following object is masked from ‘package:apa’:\n",
      "\n",
      "    cohens_d\n",
      "\n",
      "\n",
      "Loading required package: carData\n",
      "\n",
      "\n",
      "Attaching package: ‘car’\n",
      "\n",
      "\n",
      "The following object is masked from ‘package:dplyr’:\n",
      "\n",
      "    recode\n",
      "\n",
      "\n",
      "Loading required package: Matrix\n",
      "\n",
      "\n",
      "Attaching package: ‘lmerTest’\n",
      "\n",
      "\n",
      "The following object is masked from ‘package:lme4’:\n",
      "\n",
      "    lmer\n",
      "\n",
      "\n",
      "The following object is masked from ‘package:stats’:\n",
      "\n",
      "    step\n",
      "\n",
      "\n",
      "Loading required package: coda\n",
      "\n",
      "************\n",
      "Welcome to BayesFactor 0.9.12-4.4. If you have questions, please contact Richard Morey (richarddmorey@gmail.com).\n",
      "\n",
      "Type BFManual() to open the manual.\n",
      "************\n",
      "\n"
     ]
    }
   ],
   "source": [
    "source('stats.R')"
   ]
  },
  {
   "cell_type": "markdown",
   "metadata": {},
   "source": [
    "## Decision Time"
   ]
  },
  {
   "cell_type": "code",
   "execution_count": 2,
   "metadata": {
    "vscode": {
     "languageId": "r"
    }
   },
   "outputs": [],
   "source": [
    "df <- read.csv(\"../data/processed/decision_time_per_item.csv\")\n",
    "\n",
    "df$expertiseLevel <- factor(df$expertiseLevel, levels = c(\"N\", \"I\", \"E\"))\n",
    "df$domain <- factor(df$domain, levels = c(\"text\", \"image\", \"mesh\"))"
   ]
  },
  {
   "cell_type": "code",
   "execution_count": 3,
   "metadata": {
    "vscode": {
     "languageId": "r"
    }
   },
   "outputs": [
    {
     "data": {
      "text/html": [
       "'Effect sizes were labelled following Funder\\'s (2019) recommendations.\\n\\nThe Wilcoxon rank sum test with continuity correction testing the difference in ranks between df_text_n$decision_time and df_text_e$decision_time suggests that the effect is negative, statistically not significant, and small (W = 8273.00, p = 0.051; r (rank biserial) = -0.14, 95% CI [-0.27, -5.85e-04])'"
      ],
      "text/latex": [
       "'Effect sizes were labelled following Funder\\textbackslash{}'s (2019) recommendations.\\textbackslash{}n\\textbackslash{}nThe Wilcoxon rank sum test with continuity correction testing the difference in ranks between df\\_text\\_n\\$decision\\_time and df\\_text\\_e\\$decision\\_time suggests that the effect is negative, statistically not significant, and small (W = 8273.00, p = 0.051; r (rank biserial) = -0.14, 95\\% CI {[}-0.27, -5.85e-04{]})'"
      ],
      "text/markdown": [
       "'Effect sizes were labelled following Funder\\'s (2019) recommendations.\\n\\nThe Wilcoxon rank sum test with continuity correction testing the difference in ranks between df_text_n$decision_time and df_text_e$decision_time suggests that the effect is negative, statistically not significant, and small (W = 8273.00, p = 0.051; r (rank biserial) = -0.14, 95% CI [-0.27, -5.85e-04])'"
      ],
      "text/plain": [
       "Effect sizes were labelled following Funder's (2019) recommendations.\n",
       "\n",
       "The Wilcoxon rank sum test with continuity correction testing the difference in\n",
       "ranks between df_text_n$decision_time and df_text_e$decision_time suggests that\n",
       "the effect is negative, statistically not significant, and small (W = 8273.00,\n",
       "p = 0.051; r (rank biserial) = -0.14, 95% CI [-0.27, -5.85e-04])"
      ]
     },
     "metadata": {},
     "output_type": "display_data"
    },
    {
     "name": "stdout",
     "output_type": "stream",
     "text": [
      "[1] 11.66388\n",
      "[1] 38.14613\n",
      "[1] 14.87675\n",
      "[1] 34.24799\n"
     ]
    },
    {
     "data": {
      "text/html": [
       "'Effect sizes were labelled following Funder\\'s (2019) recommendations.\\n\\nThe Wilcoxon rank sum test with continuity correction testing the difference in ranks between df_image_n$decision_time and df_image_e$decision_time suggests that the effect is positive, statistically significant, and small (W = 22320.00, p = 0.041; r (rank biserial) = 0.12, 95% CI [5.50e-03, 0.23])'"
      ],
      "text/latex": [
       "'Effect sizes were labelled following Funder\\textbackslash{}'s (2019) recommendations.\\textbackslash{}n\\textbackslash{}nThe Wilcoxon rank sum test with continuity correction testing the difference in ranks between df\\_image\\_n\\$decision\\_time and df\\_image\\_e\\$decision\\_time suggests that the effect is positive, statistically significant, and small (W = 22320.00, p = 0.041; r (rank biserial) = 0.12, 95\\% CI {[}5.50e-03, 0.23{]})'"
      ],
      "text/markdown": [
       "'Effect sizes were labelled following Funder\\'s (2019) recommendations.\\n\\nThe Wilcoxon rank sum test with continuity correction testing the difference in ranks between df_image_n$decision_time and df_image_e$decision_time suggests that the effect is positive, statistically significant, and small (W = 22320.00, p = 0.041; r (rank biserial) = 0.12, 95% CI [5.50e-03, 0.23])'"
      ],
      "text/plain": [
       "Effect sizes were labelled following Funder's (2019) recommendations.\n",
       "\n",
       "The Wilcoxon rank sum test with continuity correction testing the difference in\n",
       "ranks between df_image_n$decision_time and df_image_e$decision_time suggests\n",
       "that the effect is positive, statistically significant, and small (W =\n",
       "22320.00, p = 0.041; r (rank biserial) = 0.12, 95% CI [5.50e-03, 0.23])"
      ]
     },
     "metadata": {},
     "output_type": "display_data"
    },
    {
     "name": "stdout",
     "output_type": "stream",
     "text": [
      "[1] 4.55875\n",
      "[1] 6.595473\n",
      "[1] 4.235125\n",
      "[1] 18.36166\n"
     ]
    },
    {
     "data": {
      "text/html": [
       "'Effect sizes were labelled following Funder\\'s (2019) recommendations.\\n\\nThe Wilcoxon rank sum test with continuity correction testing the difference in ranks between df_mesh_n$decision_time and df_mesh_e$decision_time suggests that the effect is positive, statistically significant, and very large (W = 20999.50, p &lt; .001; r (rank biserial) = 0.45, 95% CI [0.34, 0.54])'"
      ],
      "text/latex": [
       "'Effect sizes were labelled following Funder\\textbackslash{}'s (2019) recommendations.\\textbackslash{}n\\textbackslash{}nThe Wilcoxon rank sum test with continuity correction testing the difference in ranks between df\\_mesh\\_n\\$decision\\_time and df\\_mesh\\_e\\$decision\\_time suggests that the effect is positive, statistically significant, and very large (W = 20999.50, p < .001; r (rank biserial) = 0.45, 95\\% CI {[}0.34, 0.54{]})'"
      ],
      "text/markdown": [
       "'Effect sizes were labelled following Funder\\'s (2019) recommendations.\\n\\nThe Wilcoxon rank sum test with continuity correction testing the difference in ranks between df_mesh_n$decision_time and df_mesh_e$decision_time suggests that the effect is positive, statistically significant, and very large (W = 20999.50, p &lt; .001; r (rank biserial) = 0.45, 95% CI [0.34, 0.54])'"
      ],
      "text/plain": [
       "Effect sizes were labelled following Funder's (2019) recommendations.\n",
       "\n",
       "The Wilcoxon rank sum test with continuity correction testing the difference in\n",
       "ranks between df_mesh_n$decision_time and df_mesh_e$decision_time suggests that\n",
       "the effect is positive, statistically significant, and very large (W =\n",
       "20999.50, p < .001; r (rank biserial) = 0.45, 95% CI [0.34, 0.54])"
      ]
     },
     "metadata": {},
     "output_type": "display_data"
    },
    {
     "name": "stdout",
     "output_type": "stream",
     "text": [
      "[1] 14.88213\n",
      "[1] 19.34762\n",
      "[1] 9.576875\n",
      "[1] 8.89107\n"
     ]
    }
   ],
   "source": [
    "df_text_n <- df %>% filter(domain == \"text\") %>% filter(expertiseLevel == \"N\")\n",
    "df_text_i <- df %>% filter(domain == \"text\") %>% filter(expertiseLevel == \"I\")\n",
    "df_text_e <- df %>% filter(domain == \"text\") %>% filter(expertiseLevel == \"E\")\n",
    "\n",
    "report(wilcox.test(df_text_n$decision_time, df_text_e$decision_time))\n",
    "\n",
    "print(median(df_text_n$decision_time))\n",
    "print(sd(df_text_n$decision_time))\n",
    "print(median(df_text_e$decision_time))\n",
    "print(sd(df_text_e$decision_time))\n",
    "\n",
    "df_image_n <- df %>% filter(domain == \"image\") %>% filter(expertiseLevel == \"N\")\n",
    "df_image_i <- df %>% filter(domain == \"image\") %>% filter(expertiseLevel == \"I\")\n",
    "df_image_e <- df %>% filter(domain == \"image\") %>% filter(expertiseLevel == \"E\")\n",
    "\n",
    "report(wilcox.test(df_image_n$decision_time, df_image_e$decision_time))\n",
    "print(median(df_image_n$decision_time))\n",
    "print(sd(df_image_n$decision_time))\n",
    "print(median(df_image_e$decision_time))\n",
    "print(sd(df_image_e$decision_time))\n",
    "\n",
    "df_mesh_n <- df %>% filter(domain == \"mesh\") %>% filter(expertiseLevel == \"N\")\n",
    "df_mesh_i <- df %>% filter(domain == \"mesh\") %>% filter(expertiseLevel == \"I\")\n",
    "df_mesh_e <- df %>% filter(domain == \"mesh\") %>% filter(expertiseLevel == \"E\")\n",
    "\n",
    "report(wilcox.test(df_mesh_n$decision_time, df_mesh_e$decision_time))\n",
    "print(median(df_mesh_n$decision_time))\n",
    "print(sd(df_mesh_n$decision_time))\n",
    "print(median(df_mesh_e$decision_time))\n",
    "print(sd(df_mesh_e$decision_time))"
   ]
  },
  {
   "cell_type": "markdown",
   "metadata": {},
   "source": [
    "## Iterations"
   ]
  },
  {
   "cell_type": "code",
   "execution_count": 4,
   "metadata": {
    "vscode": {
     "languageId": "r"
    }
   },
   "outputs": [],
   "source": [
    "df <- read.csv(\"../data/processed/iterations.csv\")\n",
    "\n",
    "df$expertiseLevel <- factor(df$expertiseLevel, levels = c(\"N\", \"I\", \"E\"))\n",
    "df$domain <- factor(df$domain, levels = c(\"text\", \"image\", \"mesh\"))"
   ]
  },
  {
   "cell_type": "code",
   "execution_count": 5,
   "metadata": {
    "vscode": {
     "languageId": "r"
    }
   },
   "outputs": [
    {
     "name": "stderr",
     "output_type": "stream",
     "text": [
      "Warning message in wilcox.test.default(df_text_n$iteration, df_text_e$iteration):\n",
      "“cannot compute exact p-value with ties”\n"
     ]
    },
    {
     "data": {
      "text/html": [
       "'Effect sizes were labelled following Funder\\'s (2019) recommendations.\\n\\nThe Wilcoxon rank sum test with continuity correction testing the difference in ranks between df_text_n$iteration and df_text_e$iteration suggests that the effect is positive, statistically not significant, and tiny (W = 223.00, p = 0.953; r (rank biserial) = 0.01, 95% CI [-0.33, 0.35])'"
      ],
      "text/latex": [
       "'Effect sizes were labelled following Funder\\textbackslash{}'s (2019) recommendations.\\textbackslash{}n\\textbackslash{}nThe Wilcoxon rank sum test with continuity correction testing the difference in ranks between df\\_text\\_n\\$iteration and df\\_text\\_e\\$iteration suggests that the effect is positive, statistically not significant, and tiny (W = 223.00, p = 0.953; r (rank biserial) = 0.01, 95\\% CI {[}-0.33, 0.35{]})'"
      ],
      "text/markdown": [
       "'Effect sizes were labelled following Funder\\'s (2019) recommendations.\\n\\nThe Wilcoxon rank sum test with continuity correction testing the difference in ranks between df_text_n$iteration and df_text_e$iteration suggests that the effect is positive, statistically not significant, and tiny (W = 223.00, p = 0.953; r (rank biserial) = 0.01, 95% CI [-0.33, 0.35])'"
      ],
      "text/plain": [
       "Effect sizes were labelled following Funder's (2019) recommendations.\n",
       "\n",
       "The Wilcoxon rank sum test with continuity correction testing the difference in\n",
       "ranks between df_text_n$iteration and df_text_e$iteration suggests that the\n",
       "effect is positive, statistically not significant, and tiny (W = 223.00, p =\n",
       "0.953; r (rank biserial) = 0.01, 95% CI [-0.33, 0.35])"
      ]
     },
     "metadata": {},
     "output_type": "display_data"
    },
    {
     "name": "stdout",
     "output_type": "stream",
     "text": [
      "[1] 6\n",
      "[1] 2.056349\n",
      "[1] 6\n",
      "[1] 0.5773503\n"
     ]
    },
    {
     "name": "stderr",
     "output_type": "stream",
     "text": [
      "Warning message in wilcox.test.default(df_image_n$iteration, df_image_e$iteration):\n",
      "“cannot compute exact p-value with ties”\n"
     ]
    },
    {
     "data": {
      "text/html": [
       "'Effect sizes were labelled following Funder\\'s (2019) recommendations.\\n\\nThe Wilcoxon rank sum test with continuity correction testing the difference in ranks between df_image_n$iteration and df_image_e$iteration suggests that the effect is negative, statistically significant, and very large (W = 99.00, p = 0.008; r (rank biserial) = -0.48, 95% CI [-0.71, -0.15])'"
      ],
      "text/latex": [
       "'Effect sizes were labelled following Funder\\textbackslash{}'s (2019) recommendations.\\textbackslash{}n\\textbackslash{}nThe Wilcoxon rank sum test with continuity correction testing the difference in ranks between df\\_image\\_n\\$iteration and df\\_image\\_e\\$iteration suggests that the effect is negative, statistically significant, and very large (W = 99.00, p = 0.008; r (rank biserial) = -0.48, 95\\% CI {[}-0.71, -0.15{]})'"
      ],
      "text/markdown": [
       "'Effect sizes were labelled following Funder\\'s (2019) recommendations.\\n\\nThe Wilcoxon rank sum test with continuity correction testing the difference in ranks between df_image_n$iteration and df_image_e$iteration suggests that the effect is negative, statistically significant, and very large (W = 99.00, p = 0.008; r (rank biserial) = -0.48, 95% CI [-0.71, -0.15])'"
      ],
      "text/plain": [
       "Effect sizes were labelled following Funder's (2019) recommendations.\n",
       "\n",
       "The Wilcoxon rank sum test with continuity correction testing the difference in\n",
       "ranks between df_image_n$iteration and df_image_e$iteration suggests that the\n",
       "effect is negative, statistically significant, and very large (W = 99.00, p =\n",
       "0.008; r (rank biserial) = -0.48, 95% CI [-0.71, -0.15])"
      ]
     },
     "metadata": {},
     "output_type": "display_data"
    },
    {
     "name": "stdout",
     "output_type": "stream",
     "text": [
      "[1] 6\n",
      "[1] 4.922736\n",
      "[1] 11\n",
      "[1] 6.116516\n"
     ]
    },
    {
     "name": "stderr",
     "output_type": "stream",
     "text": [
      "Warning message in wilcox.test.default(df_mesh_n$iteration, df_mesh_e$iteration):\n",
      "“cannot compute exact p-value with ties”\n"
     ]
    },
    {
     "data": {
      "text/html": [
       "'Effect sizes were labelled following Funder\\'s (2019) recommendations.\\n\\nThe Wilcoxon rank sum test with continuity correction testing the difference in ranks between df_mesh_n$iteration and df_mesh_e$iteration suggests that the effect is positive, statistically not significant, and very small (W = 199.50, p = 0.751; r (rank biserial) = 0.06, 95% CI [-0.30, 0.40])'"
      ],
      "text/latex": [
       "'Effect sizes were labelled following Funder\\textbackslash{}'s (2019) recommendations.\\textbackslash{}n\\textbackslash{}nThe Wilcoxon rank sum test with continuity correction testing the difference in ranks between df\\_mesh\\_n\\$iteration and df\\_mesh\\_e\\$iteration suggests that the effect is positive, statistically not significant, and very small (W = 199.50, p = 0.751; r (rank biserial) = 0.06, 95\\% CI {[}-0.30, 0.40{]})'"
      ],
      "text/markdown": [
       "'Effect sizes were labelled following Funder\\'s (2019) recommendations.\\n\\nThe Wilcoxon rank sum test with continuity correction testing the difference in ranks between df_mesh_n$iteration and df_mesh_e$iteration suggests that the effect is positive, statistically not significant, and very small (W = 199.50, p = 0.751; r (rank biserial) = 0.06, 95% CI [-0.30, 0.40])'"
      ],
      "text/plain": [
       "Effect sizes were labelled following Funder's (2019) recommendations.\n",
       "\n",
       "The Wilcoxon rank sum test with continuity correction testing the difference in\n",
       "ranks between df_mesh_n$iteration and df_mesh_e$iteration suggests that the\n",
       "effect is positive, statistically not significant, and very small (W = 199.50,\n",
       "p = 0.751; r (rank biserial) = 0.06, 95% CI [-0.30, 0.40])"
      ]
     },
     "metadata": {},
     "output_type": "display_data"
    },
    {
     "name": "stdout",
     "output_type": "stream",
     "text": [
      "[1] 6\n",
      "[1] 5.095283\n",
      "[1] 6\n",
      "[1] 5.282849\n"
     ]
    }
   ],
   "source": [
    "df_text_n <- df %>% filter(domain == \"text\") %>% filter(expertiseLevel == \"N\")\n",
    "df_text_i <- df %>% filter(domain == \"text\") %>% filter(expertiseLevel == \"I\")\n",
    "df_text_e <- df %>% filter(domain == \"text\") %>% filter(expertiseLevel == \"E\")\n",
    "\n",
    "report(wilcox.test(df_text_n$iteration, df_text_e$iteration))\n",
    "\n",
    "print(median(df_text_n$iteration))\n",
    "print(sd(df_text_n$iteration))\n",
    "print(median(df_text_e$iteration))\n",
    "print(sd(df_text_e$iteration))\n",
    "\n",
    "df_image_n <- df %>% filter(domain == \"image\") %>% filter(expertiseLevel == \"N\")\n",
    "df_image_i <- df %>% filter(domain == \"image\") %>% filter(expertiseLevel == \"I\")\n",
    "df_image_e <- df %>% filter(domain == \"image\") %>% filter(expertiseLevel == \"E\")\n",
    "\n",
    "report(wilcox.test(df_image_n$iteration, df_image_e$iteration))\n",
    "print(median(df_image_n$iteration))\n",
    "print(sd(df_image_n$iteration))\n",
    "print(median(df_image_e$iteration))\n",
    "print(sd(df_image_e$iteration))\n",
    "\n",
    "df_mesh_n <- df %>% filter(domain == \"mesh\") %>% filter(expertiseLevel == \"N\")\n",
    "df_mesh_i <- df %>% filter(domain == \"mesh\") %>% filter(expertiseLevel == \"I\")\n",
    "df_mesh_e <- df %>% filter(domain == \"mesh\") %>% filter(expertiseLevel == \"E\")\n",
    "\n",
    "report(wilcox.test(df_mesh_n$iteration, df_mesh_e$iteration))\n",
    "print(median(df_mesh_n$iteration))\n",
    "print(sd(df_mesh_n$iteration))\n",
    "print(median(df_mesh_e$iteration))\n",
    "print(sd(df_mesh_e$iteration))"
   ]
  },
  {
   "cell_type": "markdown",
   "metadata": {},
   "source": [
    "## Incomplete preference"
   ]
  },
  {
   "cell_type": "code",
   "execution_count": 6,
   "metadata": {
    "vscode": {
     "languageId": "r"
    }
   },
   "outputs": [],
   "source": [
    "df <- read.csv(\"../data/processed/incomplete.csv\")\n",
    "\n",
    "df$expertiseLevel <- factor(df$expertiseLevel, levels = c(\"N\", \"I\", \"E\"))\n",
    "df$domain <- factor(df$domain, levels = c(\"text\", \"image\", \"mesh\"))"
   ]
  },
  {
   "cell_type": "code",
   "execution_count": 7,
   "metadata": {
    "vscode": {
     "languageId": "r"
    }
   },
   "outputs": [
    {
     "name": "stderr",
     "output_type": "stream",
     "text": [
      "Warning message in wilcox.test.default(df_text_n$incomplete, df_text_e$incomplete):\n",
      "“cannot compute exact p-value with ties”\n"
     ]
    },
    {
     "data": {
      "text/html": [
       "'Effect sizes were labelled following Funder\\'s (2019) recommendations.\\n\\nThe Wilcoxon rank sum test with continuity correction testing the difference in ranks between df_text_n$incomplete and df_text_e$incomplete suggests that the effect is positive, statistically not significant, and medium (W = 274.50, p = 0.081; r (rank biserial) = 0.24, 95% CI [-0.10, 0.54])'"
      ],
      "text/latex": [
       "'Effect sizes were labelled following Funder\\textbackslash{}'s (2019) recommendations.\\textbackslash{}n\\textbackslash{}nThe Wilcoxon rank sum test with continuity correction testing the difference in ranks between df\\_text\\_n\\$incomplete and df\\_text\\_e\\$incomplete suggests that the effect is positive, statistically not significant, and medium (W = 274.50, p = 0.081; r (rank biserial) = 0.24, 95\\% CI {[}-0.10, 0.54{]})'"
      ],
      "text/markdown": [
       "'Effect sizes were labelled following Funder\\'s (2019) recommendations.\\n\\nThe Wilcoxon rank sum test with continuity correction testing the difference in ranks between df_text_n$incomplete and df_text_e$incomplete suggests that the effect is positive, statistically not significant, and medium (W = 274.50, p = 0.081; r (rank biserial) = 0.24, 95% CI [-0.10, 0.54])'"
      ],
      "text/plain": [
       "Effect sizes were labelled following Funder's (2019) recommendations.\n",
       "\n",
       "The Wilcoxon rank sum test with continuity correction testing the difference in\n",
       "ranks between df_text_n$incomplete and df_text_e$incomplete suggests that the\n",
       "effect is positive, statistically not significant, and medium (W = 274.50, p =\n",
       "0.081; r (rank biserial) = 0.24, 95% CI [-0.10, 0.54])"
      ]
     },
     "metadata": {},
     "output_type": "display_data"
    },
    {
     "name": "stdout",
     "output_type": "stream",
     "text": [
      "[1] 0\n",
      "[1] 1.480026\n",
      "[1] 0\n",
      "[1] 0.9023778\n"
     ]
    },
    {
     "name": "stderr",
     "output_type": "stream",
     "text": [
      "Warning message in wilcox.test.default(df_image_n$incomplete, df_image_e$incomplete):\n",
      "“cannot compute exact p-value with ties”\n"
     ]
    },
    {
     "data": {
      "text/html": [
       "'Effect sizes were labelled following Funder\\'s (2019) recommendations.\\n\\nThe Wilcoxon rank sum test with continuity correction testing the difference in ranks between df_image_n$incomplete and df_image_e$incomplete suggests that the effect is negative, statistically not significant, and medium (W = 144.50, p = 0.154; r (rank biserial) = -0.24, 95% CI [-0.54, 0.13])'"
      ],
      "text/latex": [
       "'Effect sizes were labelled following Funder\\textbackslash{}'s (2019) recommendations.\\textbackslash{}n\\textbackslash{}nThe Wilcoxon rank sum test with continuity correction testing the difference in ranks between df\\_image\\_n\\$incomplete and df\\_image\\_e\\$incomplete suggests that the effect is negative, statistically not significant, and medium (W = 144.50, p = 0.154; r (rank biserial) = -0.24, 95\\% CI {[}-0.54, 0.13{]})'"
      ],
      "text/markdown": [
       "'Effect sizes were labelled following Funder\\'s (2019) recommendations.\\n\\nThe Wilcoxon rank sum test with continuity correction testing the difference in ranks between df_image_n$incomplete and df_image_e$incomplete suggests that the effect is negative, statistically not significant, and medium (W = 144.50, p = 0.154; r (rank biserial) = -0.24, 95% CI [-0.54, 0.13])'"
      ],
      "text/plain": [
       "Effect sizes were labelled following Funder's (2019) recommendations.\n",
       "\n",
       "The Wilcoxon rank sum test with continuity correction testing the difference in\n",
       "ranks between df_image_n$incomplete and df_image_e$incomplete suggests that the\n",
       "effect is negative, statistically not significant, and medium (W = 144.50, p =\n",
       "0.154; r (rank biserial) = -0.24, 95% CI [-0.54, 0.13])"
      ]
     },
     "metadata": {},
     "output_type": "display_data"
    },
    {
     "name": "stdout",
     "output_type": "stream",
     "text": [
      "[1] 0\n",
      "[1] 0.9807674\n",
      "[1] 0.5\n",
      "[1] 0.9851844\n"
     ]
    },
    {
     "name": "stderr",
     "output_type": "stream",
     "text": [
      "Warning message in wilcox.test.default(df_mesh_n$incomplete, df_mesh_e$incomplete):\n",
      "“cannot compute exact p-value with ties”\n",
      "Warning message:\n",
      "“'y' is numeric but has only 2 unique values.\n",
      "If this is a grouping variable, convert it to a factor.”\n"
     ]
    },
    {
     "data": {
      "text/html": [
       "'Effect sizes were labelled following Funder\\'s (2019) recommendations.\\n\\nThe Wilcoxon rank sum test with continuity correction testing the difference in ranks between df_mesh_n$incomplete and df_mesh_e$incomplete suggests that the effect is positive, statistically significant, and large (W = 249.00, p = 0.023; r (rank biserial) = 0.32, 95% CI [-0.04, 0.60])'"
      ],
      "text/latex": [
       "'Effect sizes were labelled following Funder\\textbackslash{}'s (2019) recommendations.\\textbackslash{}n\\textbackslash{}nThe Wilcoxon rank sum test with continuity correction testing the difference in ranks between df\\_mesh\\_n\\$incomplete and df\\_mesh\\_e\\$incomplete suggests that the effect is positive, statistically significant, and large (W = 249.00, p = 0.023; r (rank biserial) = 0.32, 95\\% CI {[}-0.04, 0.60{]})'"
      ],
      "text/markdown": [
       "'Effect sizes were labelled following Funder\\'s (2019) recommendations.\\n\\nThe Wilcoxon rank sum test with continuity correction testing the difference in ranks between df_mesh_n$incomplete and df_mesh_e$incomplete suggests that the effect is positive, statistically significant, and large (W = 249.00, p = 0.023; r (rank biserial) = 0.32, 95% CI [-0.04, 0.60])'"
      ],
      "text/plain": [
       "Effect sizes were labelled following Funder's (2019) recommendations.\n",
       "\n",
       "The Wilcoxon rank sum test with continuity correction testing the difference in\n",
       "ranks between df_mesh_n$incomplete and df_mesh_e$incomplete suggests that the\n",
       "effect is positive, statistically significant, and large (W = 249.00, p =\n",
       "0.023; r (rank biserial) = 0.32, 95% CI [-0.04, 0.60])"
      ]
     },
     "metadata": {},
     "output_type": "display_data"
    },
    {
     "name": "stdout",
     "output_type": "stream",
     "text": [
      "[1] 0\n",
      "[1] 2.657424\n",
      "[1] 0\n",
      "[1] 0.942809\n"
     ]
    }
   ],
   "source": [
    "df_text_n <- df %>% filter(domain == \"text\") %>% filter(expertiseLevel == \"N\")\n",
    "df_text_i <- df %>% filter(domain == \"text\") %>% filter(expertiseLevel == \"I\")\n",
    "df_text_e <- df %>% filter(domain == \"text\") %>% filter(expertiseLevel == \"E\")\n",
    "\n",
    "report(wilcox.test(df_text_n$incomplete, df_text_e$incomplete))\n",
    "\n",
    "print(median(df_text_n$incomplete))\n",
    "print(sd(df_text_n$incomplete))\n",
    "print(median(df_text_e$incomplete))\n",
    "print(sd(df_text_e$incomplete))\n",
    "\n",
    "df_image_n <- df %>% filter(domain == \"image\") %>% filter(expertiseLevel == \"N\")\n",
    "df_image_i <- df %>% filter(domain == \"image\") %>% filter(expertiseLevel == \"I\")\n",
    "df_image_e <- df %>% filter(domain == \"image\") %>% filter(expertiseLevel == \"E\")\n",
    "\n",
    "report(wilcox.test(df_image_n$incomplete, df_image_e$incomplete))\n",
    "print(median(df_image_n$incomplete))\n",
    "print(sd(df_image_n$incomplete))\n",
    "print(median(df_image_e$incomplete))\n",
    "print(sd(df_image_e$incomplete))\n",
    "\n",
    "df_mesh_n <- df %>% filter(domain == \"mesh\") %>% filter(expertiseLevel == \"N\")\n",
    "df_mesh_i <- df %>% filter(domain == \"mesh\") %>% filter(expertiseLevel == \"I\")\n",
    "df_mesh_e <- df %>% filter(domain == \"mesh\") %>% filter(expertiseLevel == \"E\")\n",
    "\n",
    "report(wilcox.test(df_mesh_n$incomplete, df_mesh_e$incomplete))\n",
    "print(median(df_mesh_n$incomplete))\n",
    "print(sd(df_mesh_n$incomplete))\n",
    "print(median(df_mesh_e$incomplete))\n",
    "print(sd(df_mesh_e$incomplete))"
   ]
  },
  {
   "cell_type": "markdown",
   "metadata": {},
   "source": [
    "## Indifference"
   ]
  },
  {
   "cell_type": "code",
   "execution_count": 8,
   "metadata": {
    "vscode": {
     "languageId": "r"
    }
   },
   "outputs": [],
   "source": [
    "df <- read.csv(\"../data/processed/incomplete.csv\")\n",
    "\n",
    "df$expertiseLevel <- factor(df$expertiseLevel, levels = c(\"N\", \"I\", \"E\"))\n",
    "df$domain <- factor(df$domain, levels = c(\"text\", \"image\", \"mesh\"))"
   ]
  },
  {
   "cell_type": "code",
   "execution_count": 9,
   "metadata": {
    "vscode": {
     "languageId": "r"
    }
   },
   "outputs": [
    {
     "name": "stderr",
     "output_type": "stream",
     "text": [
      "Warning message in wilcox.test.default(df_text_n$ties, df_text_e$ties):\n",
      "“cannot compute exact p-value with ties”\n"
     ]
    },
    {
     "data": {
      "text/html": [
       "'Effect sizes were labelled following Funder\\'s (2019) recommendations.\\n\\nThe Wilcoxon rank sum test with continuity correction testing the difference in ranks between df_text_n$ties and df_text_e$ties suggests that the effect is positive, statistically not significant, and medium (W = 265.00, p = 0.255; r (rank biserial) = 0.20, 95% CI [-0.15, 0.51])'"
      ],
      "text/latex": [
       "'Effect sizes were labelled following Funder\\textbackslash{}'s (2019) recommendations.\\textbackslash{}n\\textbackslash{}nThe Wilcoxon rank sum test with continuity correction testing the difference in ranks between df\\_text\\_n\\$ties and df\\_text\\_e\\$ties suggests that the effect is positive, statistically not significant, and medium (W = 265.00, p = 0.255; r (rank biserial) = 0.20, 95\\% CI {[}-0.15, 0.51{]})'"
      ],
      "text/markdown": [
       "'Effect sizes were labelled following Funder\\'s (2019) recommendations.\\n\\nThe Wilcoxon rank sum test with continuity correction testing the difference in ranks between df_text_n$ties and df_text_e$ties suggests that the effect is positive, statistically not significant, and medium (W = 265.00, p = 0.255; r (rank biserial) = 0.20, 95% CI [-0.15, 0.51])'"
      ],
      "text/plain": [
       "Effect sizes were labelled following Funder's (2019) recommendations.\n",
       "\n",
       "The Wilcoxon rank sum test with continuity correction testing the difference in\n",
       "ranks between df_text_n$ties and df_text_e$ties suggests that the effect is\n",
       "positive, statistically not significant, and medium (W = 265.00, p = 0.255; r\n",
       "(rank biserial) = 0.20, 95% CI [-0.15, 0.51])"
      ]
     },
     "metadata": {},
     "output_type": "display_data"
    },
    {
     "name": "stdout",
     "output_type": "stream",
     "text": [
      "[1] 7\n",
      "[1] 2.411283\n",
      "[1] 7\n",
      "[1] 2.312492\n"
     ]
    },
    {
     "name": "stderr",
     "output_type": "stream",
     "text": [
      "Warning message in wilcox.test.default(df_image_n$ties, df_image_e$ties):\n",
      "“cannot compute exact p-value with ties”\n"
     ]
    },
    {
     "data": {
      "text/html": [
       "'Effect sizes were labelled following Funder\\'s (2019) recommendations.\\n\\nThe Wilcoxon rank sum test with continuity correction testing the difference in ranks between df_image_n$ties and df_image_e$ties suggests that the effect is negative, statistically significant, and very large (W = 102.50, p = 0.015; r (rank biserial) = -0.46, 95% CI [-0.70, -0.13])'"
      ],
      "text/latex": [
       "'Effect sizes were labelled following Funder\\textbackslash{}'s (2019) recommendations.\\textbackslash{}n\\textbackslash{}nThe Wilcoxon rank sum test with continuity correction testing the difference in ranks between df\\_image\\_n\\$ties and df\\_image\\_e\\$ties suggests that the effect is negative, statistically significant, and very large (W = 102.50, p = 0.015; r (rank biserial) = -0.46, 95\\% CI {[}-0.70, -0.13{]})'"
      ],
      "text/markdown": [
       "'Effect sizes were labelled following Funder\\'s (2019) recommendations.\\n\\nThe Wilcoxon rank sum test with continuity correction testing the difference in ranks between df_image_n$ties and df_image_e$ties suggests that the effect is negative, statistically significant, and very large (W = 102.50, p = 0.015; r (rank biserial) = -0.46, 95% CI [-0.70, -0.13])'"
      ],
      "text/plain": [
       "Effect sizes were labelled following Funder's (2019) recommendations.\n",
       "\n",
       "The Wilcoxon rank sum test with continuity correction testing the difference in\n",
       "ranks between df_image_n$ties and df_image_e$ties suggests that the effect is\n",
       "negative, statistically significant, and very large (W = 102.50, p = 0.015; r\n",
       "(rank biserial) = -0.46, 95% CI [-0.70, -0.13])"
      ]
     },
     "metadata": {},
     "output_type": "display_data"
    },
    {
     "name": "stdout",
     "output_type": "stream",
     "text": [
      "[1] 7\n",
      "[1] 6.660473\n",
      "[1] 10\n",
      "[1] 6.476705\n"
     ]
    },
    {
     "name": "stderr",
     "output_type": "stream",
     "text": [
      "Warning message in wilcox.test.default(df_mesh_n$ties, df_mesh_e$ties):\n",
      "“cannot compute exact p-value with ties”\n"
     ]
    },
    {
     "data": {
      "text/html": [
       "'Effect sizes were labelled following Funder\\'s (2019) recommendations.\\n\\nThe Wilcoxon rank sum test with continuity correction testing the difference in ranks between df_mesh_n$ties and df_mesh_e$ties suggests that the effect is positive, statistically not significant, and medium (W = 230.50, p = 0.242; r (rank biserial) = 0.22, 95% CI [-0.14, 0.53])'"
      ],
      "text/latex": [
       "'Effect sizes were labelled following Funder\\textbackslash{}'s (2019) recommendations.\\textbackslash{}n\\textbackslash{}nThe Wilcoxon rank sum test with continuity correction testing the difference in ranks between df\\_mesh\\_n\\$ties and df\\_mesh\\_e\\$ties suggests that the effect is positive, statistically not significant, and medium (W = 230.50, p = 0.242; r (rank biserial) = 0.22, 95\\% CI {[}-0.14, 0.53{]})'"
      ],
      "text/markdown": [
       "'Effect sizes were labelled following Funder\\'s (2019) recommendations.\\n\\nThe Wilcoxon rank sum test with continuity correction testing the difference in ranks between df_mesh_n$ties and df_mesh_e$ties suggests that the effect is positive, statistically not significant, and medium (W = 230.50, p = 0.242; r (rank biserial) = 0.22, 95% CI [-0.14, 0.53])'"
      ],
      "text/plain": [
       "Effect sizes were labelled following Funder's (2019) recommendations.\n",
       "\n",
       "The Wilcoxon rank sum test with continuity correction testing the difference in\n",
       "ranks between df_mesh_n$ties and df_mesh_e$ties suggests that the effect is\n",
       "positive, statistically not significant, and medium (W = 230.50, p = 0.242; r\n",
       "(rank biserial) = 0.22, 95% CI [-0.14, 0.53])"
      ]
     },
     "metadata": {},
     "output_type": "display_data"
    },
    {
     "name": "stdout",
     "output_type": "stream",
     "text": [
      "[1] 7\n",
      "[1] 5.688752\n",
      "[1] 6\n",
      "[1] 7.071068\n"
     ]
    }
   ],
   "source": [
    "df_text_n <- df %>% filter(domain == \"text\") %>% filter(expertiseLevel == \"N\")\n",
    "df_text_i <- df %>% filter(domain == \"text\") %>% filter(expertiseLevel == \"I\")\n",
    "df_text_e <- df %>% filter(domain == \"text\") %>% filter(expertiseLevel == \"E\")\n",
    "\n",
    "report(wilcox.test(df_text_n$ties, df_text_e$ties))\n",
    "\n",
    "print(median(df_text_n$ties))\n",
    "print(sd(df_text_n$ties))\n",
    "print(median(df_text_e$ties))\n",
    "print(sd(df_text_e$ties))\n",
    "\n",
    "df_image_n <- df %>% filter(domain == \"image\") %>% filter(expertiseLevel == \"N\")\n",
    "df_image_i <- df %>% filter(domain == \"image\") %>% filter(expertiseLevel == \"I\")\n",
    "df_image_e <- df %>% filter(domain == \"image\") %>% filter(expertiseLevel == \"E\")\n",
    "\n",
    "report(wilcox.test(df_image_n$ties, df_image_e$ties))\n",
    "print(median(df_image_n$ties))\n",
    "print(sd(df_image_n$ties))\n",
    "print(median(df_image_e$ties))\n",
    "print(sd(df_image_e$ties))\n",
    "\n",
    "df_mesh_n <- df %>% filter(domain == \"mesh\") %>% filter(expertiseLevel == \"N\")\n",
    "df_mesh_i <- df %>% filter(domain == \"mesh\") %>% filter(expertiseLevel == \"I\")\n",
    "df_mesh_e <- df %>% filter(domain == \"mesh\") %>% filter(expertiseLevel == \"E\")\n",
    "\n",
    "report(wilcox.test(df_mesh_n$ties, df_mesh_e$ties))\n",
    "print(median(df_mesh_n$ties))\n",
    "print(sd(df_mesh_n$ties))\n",
    "print(median(df_mesh_e$ties))\n",
    "print(sd(df_mesh_e$ties))"
   ]
  },
  {
   "cell_type": "markdown",
   "metadata": {},
   "source": [
    "## Ranking interactions"
   ]
  },
  {
   "cell_type": "code",
   "execution_count": 10,
   "metadata": {
    "vscode": {
     "languageId": "r"
    }
   },
   "outputs": [],
   "source": [
    "df <- read.csv(\"../data/processed/rankings.csv\")\n",
    "\n",
    "df$expertiseLevel <- factor(df$expertiseLevel, levels = c(\"N\", \"I\", \"E\"))\n",
    "df$domain <- factor(df$domain, levels = c(\"text\", \"image\", \"mesh\"))"
   ]
  },
  {
   "cell_type": "code",
   "execution_count": 11,
   "metadata": {
    "vscode": {
     "languageId": "r"
    }
   },
   "outputs": [
    {
     "data": {
      "text/html": [
       "'Effect sizes were labelled following Funder\\'s (2019) recommendations.\\n\\nThe Wilcoxon rank sum test with continuity correction testing the difference in ranks between df_text_n$rankingInteraction and df_text_e$rankingInteraction suggests that the effect is negative, statistically not significant, and small (W = 8439.50, p = 0.062; r (rank biserial) = -0.12, 95% CI [-0.25, 0.02])'"
      ],
      "text/latex": [
       "'Effect sizes were labelled following Funder\\textbackslash{}'s (2019) recommendations.\\textbackslash{}n\\textbackslash{}nThe Wilcoxon rank sum test with continuity correction testing the difference in ranks between df\\_text\\_n\\$rankingInteraction and df\\_text\\_e\\$rankingInteraction suggests that the effect is negative, statistically not significant, and small (W = 8439.50, p = 0.062; r (rank biserial) = -0.12, 95\\% CI {[}-0.25, 0.02{]})'"
      ],
      "text/markdown": [
       "'Effect sizes were labelled following Funder\\'s (2019) recommendations.\\n\\nThe Wilcoxon rank sum test with continuity correction testing the difference in ranks between df_text_n$rankingInteraction and df_text_e$rankingInteraction suggests that the effect is negative, statistically not significant, and small (W = 8439.50, p = 0.062; r (rank biserial) = -0.12, 95% CI [-0.25, 0.02])'"
      ],
      "text/plain": [
       "Effect sizes were labelled following Funder's (2019) recommendations.\n",
       "\n",
       "The Wilcoxon rank sum test with continuity correction testing the difference in\n",
       "ranks between df_text_n$rankingInteraction and df_text_e$rankingInteraction\n",
       "suggests that the effect is negative, statistically not significant, and small\n",
       "(W = 8439.50, p = 0.062; r (rank biserial) = -0.12, 95% CI [-0.25, 0.02])"
      ]
     },
     "metadata": {},
     "output_type": "display_data"
    },
    {
     "name": "stdout",
     "output_type": "stream",
     "text": [
      "[1] 4\n",
      "[1] 1.842686\n",
      "[1] 5\n",
      "[1] 2.283955\n"
     ]
    },
    {
     "data": {
      "text/html": [
       "'Effect sizes were labelled following Funder\\'s (2019) recommendations.\\n\\nThe Wilcoxon rank sum test with continuity correction testing the difference in ranks between df_image_n$rankingInteraction and df_image_e$rankingInteraction suggests that the effect is negative, statistically not significant, and tiny (W = 19405.50, p = 0.590; r (rank biserial) = -0.03, 95% CI [-0.14, 0.09])'"
      ],
      "text/latex": [
       "'Effect sizes were labelled following Funder\\textbackslash{}'s (2019) recommendations.\\textbackslash{}n\\textbackslash{}nThe Wilcoxon rank sum test with continuity correction testing the difference in ranks between df\\_image\\_n\\$rankingInteraction and df\\_image\\_e\\$rankingInteraction suggests that the effect is negative, statistically not significant, and tiny (W = 19405.50, p = 0.590; r (rank biserial) = -0.03, 95\\% CI {[}-0.14, 0.09{]})'"
      ],
      "text/markdown": [
       "'Effect sizes were labelled following Funder\\'s (2019) recommendations.\\n\\nThe Wilcoxon rank sum test with continuity correction testing the difference in ranks between df_image_n$rankingInteraction and df_image_e$rankingInteraction suggests that the effect is negative, statistically not significant, and tiny (W = 19405.50, p = 0.590; r (rank biserial) = -0.03, 95% CI [-0.14, 0.09])'"
      ],
      "text/plain": [
       "Effect sizes were labelled following Funder's (2019) recommendations.\n",
       "\n",
       "The Wilcoxon rank sum test with continuity correction testing the difference in\n",
       "ranks between df_image_n$rankingInteraction and df_image_e$rankingInteraction\n",
       "suggests that the effect is negative, statistically not significant, and tiny\n",
       "(W = 19405.50, p = 0.590; r (rank biserial) = -0.03, 95% CI [-0.14, 0.09])"
      ]
     },
     "metadata": {},
     "output_type": "display_data"
    },
    {
     "name": "stdout",
     "output_type": "stream",
     "text": [
      "[1] 4\n",
      "[1] 2.153578\n",
      "[1] 4\n",
      "[1] 1.301421\n"
     ]
    },
    {
     "data": {
      "text/html": [
       "'Effect sizes were labelled following Funder\\'s (2019) recommendations.\\n\\nThe Wilcoxon rank sum test with continuity correction testing the difference in ranks between df_mesh_n$rankingInteraction and df_mesh_e$rankingInteraction suggests that the effect is positive, statistically not significant, and tiny (W = 14994.50, p = 0.516; r (rank biserial) = 0.03, 95% CI [-0.09, 0.16])'"
      ],
      "text/latex": [
       "'Effect sizes were labelled following Funder\\textbackslash{}'s (2019) recommendations.\\textbackslash{}n\\textbackslash{}nThe Wilcoxon rank sum test with continuity correction testing the difference in ranks between df\\_mesh\\_n\\$rankingInteraction and df\\_mesh\\_e\\$rankingInteraction suggests that the effect is positive, statistically not significant, and tiny (W = 14994.50, p = 0.516; r (rank biserial) = 0.03, 95\\% CI {[}-0.09, 0.16{]})'"
      ],
      "text/markdown": [
       "'Effect sizes were labelled following Funder\\'s (2019) recommendations.\\n\\nThe Wilcoxon rank sum test with continuity correction testing the difference in ranks between df_mesh_n$rankingInteraction and df_mesh_e$rankingInteraction suggests that the effect is positive, statistically not significant, and tiny (W = 14994.50, p = 0.516; r (rank biserial) = 0.03, 95% CI [-0.09, 0.16])'"
      ],
      "text/plain": [
       "Effect sizes were labelled following Funder's (2019) recommendations.\n",
       "\n",
       "The Wilcoxon rank sum test with continuity correction testing the difference in\n",
       "ranks between df_mesh_n$rankingInteraction and df_mesh_e$rankingInteraction\n",
       "suggests that the effect is positive, statistically not significant, and tiny\n",
       "(W = 14994.50, p = 0.516; r (rank biserial) = 0.03, 95% CI [-0.09, 0.16])"
      ]
     },
     "metadata": {},
     "output_type": "display_data"
    },
    {
     "name": "stdout",
     "output_type": "stream",
     "text": [
      "[1] 4\n",
      "[1] 1.915727\n",
      "[1] 4\n",
      "[1] 1.761022\n"
     ]
    }
   ],
   "source": [
    "df_text_n <- df %>% filter(domain == \"text\") %>% filter(expertiseLevel == \"N\")\n",
    "df_text_i <- df %>% filter(domain == \"text\") %>% filter(expertiseLevel == \"I\")\n",
    "df_text_e <- df %>% filter(domain == \"text\") %>% filter(expertiseLevel == \"E\")\n",
    "\n",
    "report(wilcox.test(df_text_n$rankingInteraction, df_text_e$rankingInteraction))\n",
    "\n",
    "print(median(df_text_n$rankingInteraction))\n",
    "print(sd(df_text_n$rankingInteraction))\n",
    "print(median(df_text_e$rankingInteraction))\n",
    "print(sd(df_text_e$rankingInteraction))\n",
    "\n",
    "df_image_n <- df %>% filter(domain == \"image\") %>% filter(expertiseLevel == \"N\")\n",
    "df_image_i <- df %>% filter(domain == \"image\") %>% filter(expertiseLevel == \"I\")\n",
    "df_image_e <- df %>% filter(domain == \"image\") %>% filter(expertiseLevel == \"E\")\n",
    "\n",
    "report(wilcox.test(df_image_n$rankingInteraction, df_image_e$rankingInteraction))\n",
    "print(median(df_image_n$rankingInteraction))\n",
    "print(sd(df_image_n$rankingInteraction))\n",
    "print(median(df_image_e$rankingInteraction))\n",
    "print(sd(df_image_e$rankingInteraction))\n",
    "\n",
    "df_mesh_n <- df %>% filter(domain == \"mesh\") %>% filter(expertiseLevel == \"N\")\n",
    "df_mesh_i <- df %>% filter(domain == \"mesh\") %>% filter(expertiseLevel == \"I\")\n",
    "df_mesh_e <- df %>% filter(domain == \"mesh\") %>% filter(expertiseLevel == \"E\")\n",
    "\n",
    "report(wilcox.test(df_mesh_n$rankingInteraction, df_mesh_e$rankingInteraction))\n",
    "print(median(df_mesh_n$rankingInteraction))\n",
    "print(sd(df_mesh_n$rankingInteraction))\n",
    "print(median(df_mesh_e$rankingInteraction))\n",
    "print(sd(df_mesh_e$rankingInteraction))"
   ]
  }
 ],
 "metadata": {
  "kernelspec": {
   "display_name": "R",
   "language": "R",
   "name": "ir"
  },
  "language_info": {
   "codemirror_mode": "r",
   "file_extension": ".r",
   "mimetype": "text/x-r-source",
   "name": "R",
   "pygments_lexer": "r",
   "version": "4.2.1"
  },
  "orig_nbformat": 4,
  "vscode": {
   "interpreter": {
    "hash": "d2ae84803999f2b5cf9f8ebf316ef12f1a751e9f4b65ebb2c1a0b11abdc69e26"
   }
  }
 },
 "nbformat": 4,
 "nbformat_minor": 2
}
