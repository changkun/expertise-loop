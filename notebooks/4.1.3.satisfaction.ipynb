{
 "cells": [
  {
   "attachments": {},
   "cell_type": "markdown",
   "metadata": {},
   "source": [
    "```\n",
    "Copyright 2023 by LMU Munich Media Informatics Group. All rights reserved.\n",
    "Created by [Changkun Ou](https://changkun.de)\n",
    "\n",
    "Use of this source code is governed by a GPLv3 license that\n",
    "can be found in the LICENSE file.\n",
    "```"
   ]
  },
  {
   "attachments": {},
   "cell_type": "markdown",
   "metadata": {},
   "source": [
    "This notebook reproduces the \"Section 4.1.3 Subjective Satisfaction\" in the paper of \"The Impact of Expertise in the Loop for Exploring Machine Rationality\".\n",
    "\n",
    "The statistical method used in this notebook is two-way ANOVA with the following model:\n",
    "\n",
    "```\n",
    "depvar ~ expertiseLevel * domain + (1 | userID)\n",
    "```"
   ]
  },
  {
   "cell_type": "code",
   "execution_count": 1,
   "metadata": {
    "vscode": {
     "languageId": "r"
    }
   },
   "outputs": [
    {
     "name": "stderr",
     "output_type": "stream",
     "text": [
      "\n",
      "Attaching package: ‘dplyr’\n",
      "\n",
      "\n",
      "The following objects are masked from ‘package:stats’:\n",
      "\n",
      "    filter, lag\n",
      "\n",
      "\n",
      "The following objects are masked from ‘package:base’:\n",
      "\n",
      "    intersect, setdiff, setequal, union\n",
      "\n",
      "\n",
      "\n",
      "Attaching package: ‘effectsize’\n",
      "\n",
      "\n",
      "The following object is masked from ‘package:apa’:\n",
      "\n",
      "    cohens_d\n",
      "\n",
      "\n",
      "Loading required package: carData\n",
      "\n",
      "\n",
      "Attaching package: ‘car’\n",
      "\n",
      "\n",
      "The following object is masked from ‘package:dplyr’:\n",
      "\n",
      "    recode\n",
      "\n",
      "\n",
      "Loading required package: Matrix\n",
      "\n",
      "\n",
      "Attaching package: ‘lmerTest’\n",
      "\n",
      "\n",
      "The following object is masked from ‘package:lme4’:\n",
      "\n",
      "    lmer\n",
      "\n",
      "\n",
      "The following object is masked from ‘package:stats’:\n",
      "\n",
      "    step\n",
      "\n",
      "\n",
      "Loading required package: coda\n",
      "\n",
      "************\n",
      "Welcome to BayesFactor 0.9.12-4.4. If you have questions, please contact Richard Morey (richarddmorey@gmail.com).\n",
      "\n",
      "Type BFManual() to open the manual.\n",
      "************\n",
      "\n"
     ]
    }
   ],
   "source": [
    "source('stats.R')"
   ]
  },
  {
   "cell_type": "code",
   "execution_count": 2,
   "metadata": {
    "vscode": {
     "languageId": "r"
    }
   },
   "outputs": [
    {
     "name": "stdout",
     "output_type": "stream",
     "text": [
      "[1] \"not normally distributed:\"\n",
      "\n",
      "\tShapiro-Wilk normality test\n",
      "\n",
      "data:  df[[feature]]\n",
      "W = 0.95313, p-value = 1.11e-05\n",
      "\n",
      "agg_satisfaction ~ expertiseLevel * domain + (1 | userID)\n",
      "<environment: 0x167718078>\n",
      "     Term                 F               Df            Df.res  \n",
      " Length:3           Min.   :0.503   Min.   :2.000   Min.   :51  \n",
      " Class :character   1st Qu.:2.174   1st Qu.:2.000   1st Qu.:51  \n",
      " Mode  :character   Median :3.844   Median :2.000   Median :51  \n",
      "                    Mean   :3.969   Mean   :2.667   Mean   :51  \n",
      "                    3rd Qu.:5.703   3rd Qu.:3.000   3rd Qu.:51  \n",
      "                    Max.   :7.561   Max.   :4.000   Max.   :51  \n",
      "     Pr(>F)        \n",
      " Min.   :0.001331  \n",
      " 1st Qu.:0.014594  \n",
      " Median :0.027858  \n",
      " Mean   :0.254274  \n",
      " 3rd Qu.:0.380746  \n",
      " Max.   :0.733634  \n",
      "Analysis of Variance of Aligned Rank Transformed Data\n",
      "\n",
      "Table Type: Analysis of Deviance Table (Type III Wald F tests with Kenward-Roger df) \n",
      "Model: Mixed Effects (lmer)\n",
      "Response: art(agg_satisfaction)\n",
      "\n",
      "                              F Df Df.res   Pr(>F)   \n",
      "1 expertiseLevel        7.56113  2     51 0.001331 **\n",
      "2 domain                3.84423  2     51 0.027858  *\n",
      "3 expertiseLevel:domain 0.50301  4     51 0.733634   \n",
      "---\n",
      "Signif. codes:   0 ‘***’ 0.001 ‘**’ 0.01 ‘*’ 0.05 ‘.’ 0.1 ‘ ’ 1 \n",
      "\u001b[34m# Effect Size for ANOVA (Type I)\u001b[39m\n",
      "\n",
      "Parameter             | Eta2 (partial) |       95% CI\n",
      "-----------------------------------------------------\n",
      "expertiseLevel        |           0.23 | [0.07, 1.00]\n",
      "domain                |           0.13 | [0.01, 1.00]\n",
      "expertiseLevel:domain |           0.04 | [0.00, 1.00]\n",
      "\u001b[36m\n",
      "- One-sided CIs: upper bound fixed at [1.00].\u001b[39m\u001b[34m# Effect Size for ANOVA (Type I)\u001b[39m\n",
      "\n",
      "Parameter             | Omega2 (partial) |       95% CI\n",
      "-------------------------------------------------------\n",
      "expertiseLevel        |             0.20 | [0.04, 1.00]\n",
      "domain                |             0.10 | [0.00, 1.00]\n",
      "expertiseLevel:domain |            -0.04 | [0.00, 1.00]\n",
      "\u001b[36m\n",
      "- One-sided CIs: upper bound fixed at [1.00].\u001b[39m            contrast   estimate       SE df    t.ratio    p.value sig.\n",
      "1   E,image - E,mesh -43.388889 21.94692 51 -1.9769919 1.00000000     \n",
      "2   E,image - E,text -12.222222 21.14858 51 -0.5779215 1.00000000     \n",
      "3  E,image - I,image -25.936508 21.14858 51 -1.2263945 1.00000000     \n",
      "4   E,image - I,mesh -61.031746 21.14858 51 -2.8858549 0.18840300     \n",
      "5   E,image - I,text -23.750000 21.94692 51 -1.0821562 1.00000000     \n",
      "6  E,image - N,image -66.865079 21.14858 51 -3.1616811 0.08977718    .\n",
      "7   E,image - N,mesh -78.769841 21.14858 51 -3.7245916 0.01764060    *\n",
      "8   E,image - N,text -58.103175 21.14858 51 -2.7473789 0.26504903     \n",
      "9    E,mesh - E,text  31.166667 21.14858 51  1.4736999 1.00000000     \n",
      "10  E,mesh - I,image  17.452381 21.14858 51  0.8252269 1.00000000     \n",
      "11   E,mesh - I,mesh -17.642857 21.14858 51 -0.8342335 1.00000000     \n",
      "12   E,mesh - I,text  19.638889 21.94692 51  0.8948356 1.00000000     \n",
      "13  E,mesh - N,image -23.476190 21.14858 51 -1.1100597 1.00000000     \n",
      "14   E,mesh - N,mesh -35.380952 21.14858 51 -1.6729702 1.00000000     \n",
      "15   E,mesh - N,text -14.714286 21.14858 51 -0.6957575 1.00000000     \n",
      "16  E,text - I,image -13.714286 20.31890 51 -0.6749521 1.00000000     \n",
      "17   E,text - I,mesh -48.809524 20.31890 51 -2.4021732 0.55937555     \n",
      "18   E,text - I,text -11.527778 21.14858 51 -0.5450851 1.00000000     \n",
      "19  E,text - N,image -54.642857 20.31890 51 -2.6892622 0.29922404     \n",
      "20   E,text - N,mesh -66.547619 20.31890 51 -3.2751581 0.06656413    .\n",
      "21   E,text - N,text -45.880952 20.31890 51 -2.2580428 0.76278816     \n",
      "22  I,image - I,mesh -35.095238 20.31890 51 -1.7272211 1.00000000     \n",
      "23  I,image - I,text   2.186508 21.14858 51  0.1033879 1.00000000     \n",
      "24 I,image - N,image -40.928571 20.31890 51 -2.0143101 1.00000000     \n",
      "25  I,image - N,mesh -52.833333 20.31890 51 -2.6002060 0.36345401     \n",
      "26  I,image - N,text -32.166667 20.31890 51 -1.5830907 1.00000000     \n",
      "27   I,mesh - I,text  37.281746 21.14858 51  1.7628483 1.00000000     \n",
      "28  I,mesh - N,image  -5.833333 20.31890 51 -0.2870890 1.00000000     \n",
      "29   I,mesh - N,mesh -17.738095 20.31890 51 -0.8729849 1.00000000     \n",
      "30   I,mesh - N,text   2.928571 20.31890 51  0.1441304 1.00000000     \n",
      "31  I,text - N,image -43.115079 21.14858 51 -2.0386745 1.00000000     \n",
      "32   I,text - N,mesh -55.019841 21.14858 51 -2.6015850 0.36345401     \n",
      "33   I,text - N,text -34.353175 21.14858 51 -1.6243723 1.00000000     \n",
      "34  N,image - N,mesh -11.904762 20.31890 51 -0.5858959 1.00000000     \n",
      "35  N,image - N,text   8.761905 20.31890 51  0.4312194 1.00000000     \n",
      "36   N,mesh - N,text  20.666667 20.31890 51  1.0171153 1.00000000     \n",
      "2 & 51 & 7.561 & \\textbf{0.001} & 0.195 & 2 & 51 & 3.844 & \\textbf{0.028} & 0.095 & 4 & 51 & 0.503 & 0.734 & -0.037"
     ]
    }
   ],
   "source": [
    "# load questionnaires.csv\n",
    "df <- read.csv(\"../data/processed/questionnaires_agreegated.csv\")\n",
    "df$domain <- factor(df$domain)\n",
    "df$expertiseLevel <- factor(df$expertiseLevel)\n",
    "twoway_anova_test(df, \"agg_satisfaction\")"
   ]
  }
 ],
 "metadata": {
  "kernelspec": {
   "display_name": "R",
   "language": "R",
   "name": "ir"
  },
  "language_info": {
   "codemirror_mode": "r",
   "file_extension": ".r",
   "mimetype": "text/x-r-source",
   "name": "R",
   "pygments_lexer": "r",
   "version": "4.2.1"
  },
  "orig_nbformat": 4,
  "vscode": {
   "interpreter": {
    "hash": "ec1d61fc4a81f2219f6340afe696829c1c42ad9e85ab5049602126dfdcd926f3"
   }
  }
 },
 "nbformat": 4,
 "nbformat_minor": 2
}
