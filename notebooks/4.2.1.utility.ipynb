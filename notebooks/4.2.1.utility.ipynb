{
 "cells": [
  {
   "attachments": {},
   "cell_type": "markdown",
   "metadata": {},
   "source": [
    "```\n",
    "Copyright 2023 by LMU Munich Media Informatics Group. All rights reserved.\n",
    "Created by [Changkun Ou](https://changkun.de)\n",
    "\n",
    "Use of this source code is governed by a GPLv3 license that\n",
    "can be found in the LICENSE file.\n",
    "```"
   ]
  },
  {
   "attachments": {},
   "cell_type": "markdown",
   "metadata": {},
   "source": [
    "This notebook reproduces the \"Section 4.2.1 Measured and Learned Preference Ranking Utility\" in the paper of \"The Impact of Expertise in the Loop for Exploring Machine Rationality\".\n",
    "\n",
    "The statistical method used in this notebook is linear mixed effect model (LME) using\n",
    "the following model:\n",
    "\n",
    "```\n",
    "utility ~ expertiseLevel * iteration + (1|userID)\n",
    "```"
   ]
  },
  {
   "cell_type": "code",
   "execution_count": 1,
   "metadata": {
    "vscode": {
     "languageId": "r"
    }
   },
   "outputs": [
    {
     "name": "stderr",
     "output_type": "stream",
     "text": [
      "\n",
      "Attaching package: ‘dplyr’\n",
      "\n",
      "\n",
      "The following objects are masked from ‘package:stats’:\n",
      "\n",
      "    filter, lag\n",
      "\n",
      "\n",
      "The following objects are masked from ‘package:base’:\n",
      "\n",
      "    intersect, setdiff, setequal, union\n",
      "\n",
      "\n",
      "\n",
      "Attaching package: ‘effectsize’\n",
      "\n",
      "\n",
      "The following object is masked from ‘package:apa’:\n",
      "\n",
      "    cohens_d\n",
      "\n",
      "\n",
      "Loading required package: carData\n",
      "\n",
      "\n",
      "Attaching package: ‘car’\n",
      "\n",
      "\n",
      "The following object is masked from ‘package:dplyr’:\n",
      "\n",
      "    recode\n",
      "\n",
      "\n",
      "Loading required package: Matrix\n",
      "\n",
      "\n",
      "Attaching package: ‘lmerTest’\n",
      "\n",
      "\n",
      "The following object is masked from ‘package:lme4’:\n",
      "\n",
      "    lmer\n",
      "\n",
      "\n",
      "The following object is masked from ‘package:stats’:\n",
      "\n",
      "    step\n",
      "\n",
      "\n",
      "Loading required package: coda\n",
      "\n",
      "************\n",
      "Welcome to BayesFactor 0.9.12-4.4. If you have questions, please contact Richard Morey (richarddmorey@gmail.com).\n",
      "\n",
      "Type BFManual() to open the manual.\n",
      "************\n",
      "\n"
     ]
    }
   ],
   "source": [
    "source('stats.R')"
   ]
  },
  {
   "cell_type": "code",
   "execution_count": 2,
   "metadata": {
    "vscode": {
     "languageId": "r"
    }
   },
   "outputs": [
    {
     "name": "stdout",
     "output_type": "stream",
     "text": [
      "We fitted a linear mixed model (estimated using REML and nloptwrap optimizer)\n",
      "to predict utility with expertiseLevel and iteration\n",
      " (formula: utility ~ expertiseLevel * iteration). The model included userID\n",
      " as random effect (formula: ~1 | userID). The model's total explanatory power is\n",
      "substantial (conditional R2 = 0.40) and the part related to the fixed effects\n",
      "alone (marginal R2) is of 0.03. The model's intercept, corresponding to\n",
      "expertiseLevel = N and iteration = 0\n",
      ", is at 0.53 (95% CI [0.49, 0.56], t(3592) = 28.56, p < .001). Within this\n",
      "model:\n",
      "\n",
      "  - The effect of expertiseLevel [I] is statistically non-significant and\n",
      "negative (beta = -0.05, 95% CI [-0.10, 8.95e-04], t(3592) = -1.93, p = 0.054;\n",
      "Std. beta = -0.06, 95% CI [-0.44, 0.32])\n",
      "  - The effect of expertiseLevel [E] is statistically non-significant and\n",
      "negative (beta = -0.02, 95% CI [-0.07, 0.03], t(3592) = -0.69, p = 0.489; Std.\n",
      "beta = -0.16, 95% CI [-0.54, 0.23])\n",
      "  - The effect of iteration is statistically significant and positive (beta =\n",
      "1.67e-03, 95% CI [6.85e-04, 2.66e-03], t(3592) = 3.32, p < .001; Std. beta =\n",
      "0.07, 95% CI [0.03, 0.12])\n",
      "  - The interaction effect of iteration on expertiseLevel [I] is statistically\n",
      "significant and positive (beta = 4.47e-03, 95% CI [3.06e-03, 5.89e-03], t(3592)\n",
      "= 6.20, p < .001; Std. beta = 0.20, 95% CI [0.13, 0.26])\n",
      "  - The interaction effect of iteration on expertiseLevel [E] is statistically\n",
      "non-significant and negative (beta = -2.10e-04, 95% CI [-1.64e-03, 1.22e-03],\n",
      "t(3592) = -0.29, p = 0.773; Std. beta = -9.21e-03, 95% CI [-0.07, 0.05])\n",
      "\n",
      "Standardized parameters were obtained by fitting the model on a standardized\n",
      "version of the dataset. 95% Confidence Intervals (CIs) and p-values were\n",
      "computed using a Wald t-distribution approximation.\n"
     ]
    }
   ],
   "source": [
    "df <- read.csv('../data/processed/utility_direct.csv')\n",
    "df$domain <- factor(df$domain, levels=c('text', 'image', 'mesh'))\n",
    "df$expertiseLevel <- factor(df$expertiseLevel, levels=c('N', 'I', 'E'))\n",
    "m1 <- lmer(utility ~ expertiseLevel * iteration + (1|userID), data=df)\n",
    "print(report(m1), verbose=TRUE)"
   ]
  },
  {
   "cell_type": "code",
   "execution_count": 3,
   "metadata": {
    "vscode": {
     "languageId": "r"
    }
   },
   "outputs": [
    {
     "name": "stdout",
     "output_type": "stream",
     "text": [
      "We fitted a linear mixed model (estimated using REML and nloptwrap optimizer)\n",
      "to predict utility with expertiseLevel and iteration\n",
      " (formula: utility ~ expertiseLevel * iteration). The model included userID\n",
      " as random effect (formula: ~1 | userID). The model's total explanatory power is\n",
      "weak (conditional R2 = 0.06) and the part related to the fixed effects alone\n",
      "(marginal R2) is of 3.05e-03. The model's intercept, corresponding to\n",
      "expertiseLevel = N and iteration = 0\n",
      ", is at 0.44 (95% CI [0.42, 0.46], t(3592) = 42.97, p < .001). Within this\n",
      "model:\n",
      "\n",
      "  - The effect of expertiseLevel [I] is statistically non-significant and\n",
      "positive (beta = 0.02, 95% CI [-8.50e-03, 0.05], t(3592) = 1.38, p = 0.167;\n",
      "Std. beta = 0.08, 95% CI [-0.09, 0.25])\n",
      "  - The effect of expertiseLevel [E] is statistically significant and positive\n",
      "(beta = 0.03, 95% CI [1.11e-03, 0.06], t(3592) = 2.03, p = 0.042; Std. beta =\n",
      "0.12, 95% CI [-0.05, 0.29])\n",
      "  - The effect of iteration is statistically non-significant and positive (beta =\n",
      "8.62e-04, 95% CI [-4.15e-04, 2.14e-03], t(3592) = 1.32, p = 0.186; Std. beta =\n",
      "0.04, 95% CI [-0.02, 0.09])\n",
      "  - The interaction effect of iteration on expertiseLevel [I] is statistically\n",
      "non-significant and negative (beta = -9.83e-04, 95% CI [-2.81e-03, 8.46e-04],\n",
      "t(3592) = -1.05, p = 0.292; Std. beta = -0.04, 95% CI [-0.12, 0.04])\n",
      "  - The interaction effect of iteration on expertiseLevel [E] is statistically\n",
      "non-significant and negative (beta = -1.53e-03, 95% CI [-3.38e-03, 3.24e-04],\n",
      "t(3592) = -1.62, p = 0.106; Std. beta = -0.06, 95% CI [-0.14, 0.01])\n",
      "\n",
      "Standardized parameters were obtained by fitting the model on a standardized\n",
      "version of the dataset. 95% Confidence Intervals (CIs) and p-values were\n",
      "computed using a Wald t-distribution approximation.\n"
     ]
    }
   ],
   "source": [
    "df <- read.csv('../data/processed/utility_latent.csv')\n",
    "df$domain <- factor(df$domain, levels=c('text', 'image', 'mesh'))\n",
    "df$expertiseLevel <- factor(df$expertiseLevel, levels=c('N', 'I', 'E'))\n",
    "m1 <- lmer(utility ~ expertiseLevel * iteration + (1|userID), data=df)\n",
    "print(report(m1), verbose=TRUE)"
   ]
  }
 ],
 "metadata": {
  "kernelspec": {
   "display_name": "R",
   "language": "R",
   "name": "ir"
  },
  "language_info": {
   "codemirror_mode": "r",
   "file_extension": ".r",
   "mimetype": "text/x-r-source",
   "name": "R",
   "pygments_lexer": "r",
   "version": "4.2.1"
  },
  "orig_nbformat": 4,
  "vscode": {
   "interpreter": {
    "hash": "ec1d61fc4a81f2219f6340afe696829c1c42ad9e85ab5049602126dfdcd926f3"
   }
  }
 },
 "nbformat": 4,
 "nbformat_minor": 2
}
